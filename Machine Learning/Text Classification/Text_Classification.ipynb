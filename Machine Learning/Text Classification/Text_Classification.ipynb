{
 "cells": [
  {
   "cell_type": "markdown",
   "id": "e3af83ce",
   "metadata": {},
   "source": [
    "# Importing Important Libraries\n",
    "```\n",
    "1. I have imported the stopwords from nltk and copied more of them from internet\n",
    "2. Instead of split() function, I am using the tokenizer\n",
    "3. Instead of manually downloading the data, I have downloaded it using sklearn.datasets.fetch_20newsgroups\n",
    "```"
   ]
  },
  {
   "cell_type": "code",
   "execution_count": 1,
   "id": "ab21e1f8",
   "metadata": {},
   "outputs": [],
   "source": [
    "import nltk\n",
    "import string\n",
    "import numpy as np\n",
    "import pandas as pd\n",
    "import matplotlib.pyplot as plt\n",
    "from nltk.corpus import stopwords\n",
    "from nltk.tokenize import word_tokenize\n",
    "from sklearn.metrics import confusion_matrix\n",
    "from sklearn.naive_bayes import MultinomialNB\n",
    "from sklearn.datasets import fetch_20newsgroups\n",
    "from sklearn.metrics import classification_report\n",
    "from sklearn.model_selection import train_test_split"
   ]
  },
  {
   "cell_type": "code",
   "execution_count": 2,
   "id": "69165345",
   "metadata": {},
   "outputs": [],
   "source": [
    "# Instead of the link, I have fetched the data through sklearn itself\n",
    "newsgroups = fetch_20newsgroups() \n",
    "\n",
    "# These are the stopwords and punctuations which we don't want to include in out vocabulary.\n",
    "stops = set(stopwords.words('english'))\n",
    "punctuations = list(string.punctuation)\n",
    "stops.update(punctuations)"
   ]
  },
  {
   "cell_type": "code",
   "execution_count": 3,
   "id": "6d157731",
   "metadata": {},
   "outputs": [],
   "source": [
    "# More stop words from the internet\n",
    "df = pd.read_csv(\"stop_words_english.txt\", sep=\" \")\n",
    "more_stops = []\n",
    "for s in df.iloc[:,0]:\n",
    "    more_stops.append(s.strip())\n",
    "stops.update(more_stops)"
   ]
  },
  {
   "cell_type": "code",
   "execution_count": 4,
   "id": "0da36b17",
   "metadata": {},
   "outputs": [],
   "source": [
    "# all_documents contains all the \"X\" data in un-tokenized form\n",
    "all_documents = newsgroups.data\n",
    "\n",
    "# all_cateories contain all the \"Y\" data\n",
    "all_categories = newsgroups.target\n",
    "\n",
    "# Modified the all_documents to a form in which we have list of list of words(tokenized data for each document)\n",
    "all_documents_modified=[word_tokenize(doc) for doc in all_documents]"
   ]
  },
  {
   "cell_type": "code",
   "execution_count": 5,
   "id": "bfc68135",
   "metadata": {},
   "outputs": [],
   "source": [
    "# Splitting these documents in train and test data.\n",
    "x_train, x_test, y_train, y_test=train_test_split(all_documents_modified, all_categories, random_state=1)"
   ]
  },
  {
   "cell_type": "code",
   "execution_count": 6,
   "id": "1c9be2ec",
   "metadata": {},
   "outputs": [],
   "source": [
    "# all_words will contain all the words from all our tokenized documents\n",
    "all_words = []\n",
    "\n",
    "for doc in x_train:\n",
    "    for word in doc:\n",
    "        # Excluding all stop words, words with length less than 2 and words that are not helping much in classification\n",
    "        if (word.lower() not in stops) and len(word) > 2 and word[0]!=\"'\" and word!=\"n't\" and word[0]!=\".\":\n",
    "            all_words.append(word)"
   ]
  },
  {
   "cell_type": "code",
   "execution_count": 7,
   "id": "db694b8d",
   "metadata": {},
   "outputs": [],
   "source": [
    "# This function accepts a list and returns a dictionary in which keys are the words and values are frequency of that word\n",
    "def freq_dict(all_words):\n",
    "    dic = dict()\n",
    "    for word in all_words:\n",
    "        dic[word] = dic.get(word,0)+1\n",
    "    return dic\n",
    "\n",
    "dic = freq_dict(all_words) # dic will have frequency of all the words"
   ]
  },
  {
   "cell_type": "code",
   "execution_count": 8,
   "id": "a0d5c9f0",
   "metadata": {},
   "outputs": [],
   "source": [
    "# dic.keys() and dic.values() to two separate variables\n",
    "freq = np.array([i for i in dic.values()])\n",
    "words = np.array([i for i in dic.keys()])\n",
    "\n",
    "# Sorted both the arrays using np.sort() and np.argsort() and then reversed to obtain array in descending order\n",
    "words = words[np.argsort(freq)][::-1]\n",
    "freq = np.sort(freq)[::-1]"
   ]
  },
  {
   "cell_type": "markdown",
   "id": "f8056fbf",
   "metadata": {},
   "source": [
    "# Frequency Distribution of words"
   ]
  },
  {
   "cell_type": "code",
   "execution_count": 9,
   "id": "756a0547",
   "metadata": {},
   "outputs": [
    {
     "data": {
      "image/png": "[encoded data removed]",
      "text/plain": [
       "<Figure size 1440x504 with 1 Axes>"
      ]
     },
     "metadata": {
      "needs_background": "light"
     },
     "output_type": "display_data"
    }
   ],
   "source": [
    "# Frequency distribution graph to observe the frequency trend\n",
    "\n",
    "# Graph Limits\n",
    "lower_limit = 0    \n",
    "upper_limit = 3000    \n",
    "difference_between_each_xtick= 50\n",
    "# Adjusting size of the graph for more clarity\n",
    "plt.figure(figsize=(20, 7))\n",
    "# Plotting\n",
    "plt.plot(np.arange(len(freq))[lower_limit:upper_limit], freq[lower_limit:upper_limit])\n",
    "# Labelling\n",
    "plt.xlabel('Words(\"nth word\")--->')\n",
    "plt.ylabel(\"Frequency--->\")\n",
    "# Adjusting the xticks\n",
    "plt.xticks(np.arange(lower_limit, upper_limit, 50), rotation=45)\n",
    "plt.grid()\n",
    "plt.show()"
   ]
  },
  {
   "cell_type": "code",
   "execution_count": 10,
   "id": "8360b94b",
   "metadata": {},
   "outputs": [
    {
     "data": {
      "text/plain": [
       "(1256, 16)"
      ]
     },
     "execution_count": 10,
     "metadata": {},
     "output_type": "execute_result"
    }
   ],
   "source": [
    "# features contains all the top words which are most frequently used in all our documents\n",
    "features = words[20:100000] # Removing very high frequency words as they may be present in all the documents\n",
    "freq[20], freq[10000]"
   ]
  },
  {
   "cell_type": "code",
   "execution_count": 11,
   "id": "96fec32c",
   "metadata": {},
   "outputs": [],
   "source": [
    "# data_modifier takes the patameters x_train or x_test and the list of all features and converts it into a TEXT-CLASSIFICATION-FRIENDLY structure\n",
    "# TEXT-CLASSIFICATION-FRIENDLY structure means it converts the data into a 2-D array which contains the frequency of that feature in that perticular document\n",
    "# rows are the documents and columns are the features.\n",
    "def data_modifier(x_data, features):\n",
    "    # modified_data currently have a ZEROS numpy array whose shape is (len(x_data), len(features))\n",
    "    modified_data = np.zeros((len(x_data), len(features)))\n",
    "    count = 0 # to keep track of progress of algorithm\n",
    "    max_count = len(x_data)\n",
    "    for i in range(len(x_data)):\n",
    "        # looping over each and every row in the x_data\n",
    "        current_doc = x_data[i] # current_doc contains the current document on which we are iterating\n",
    "        d = dict() # contains the frequency of all the elements in our current_doc.\n",
    "        for word in current_doc:\n",
    "            d[word] = d.get(word,0)+1\n",
    "        for j in range(len(features)):\n",
    "            modified_data[i][j] = d.get(features[j],0)\n",
    "        count+=1\n",
    "#         print(\"progress: \", (count*100)/max_count, \"%\") # This statement just prints the progress of our data_modifier function\n",
    "    return modified_data # finally return the modified array"
   ]
  },
  {
   "cell_type": "code",
   "execution_count": 12,
   "id": "d154b1c5",
   "metadata": {},
   "outputs": [],
   "source": [
    "x_train_modified = data_modifier(x_train, features)\n",
    "x_test_modified= data_modifier(x_test, features)"
   ]
  },
  {
   "cell_type": "markdown",
   "id": "ce9e0c7f",
   "metadata": {},
   "source": [
    "# Inbuilt Multinomial Naive Bayes Classifier"
   ]
  },
  {
   "cell_type": "code",
   "execution_count": 13,
   "id": "12028f56",
   "metadata": {},
   "outputs": [
    {
     "data": {
      "text/plain": [
       "0.8925415341109932"
      ]
     },
     "execution_count": 13,
     "metadata": {},
     "output_type": "execute_result"
    }
   ],
   "source": [
    "# Inbuilt Multinomial naive bayes classifier\n",
    "clf = MultinomialNB()\n",
    "clf.fit(x_train_modified, y_train)\n",
    "clf.score(x_test_modified, y_test)"
   ]
  },
  {
   "cell_type": "markdown",
   "id": "584b6556",
   "metadata": {},
   "source": [
    "# Writing our own Naive Bayes Classifier"
   ]
  },
  {
   "cell_type": "code",
   "execution_count": 15,
   "id": "433f228e",
   "metadata": {},
   "outputs": [],
   "source": [
    "# fit function takes the training data and gives you a dictionary whose keys are the different classes available to classify\n",
    "# Each key --> value is another dictionary, whose keys are all the features available to us\n",
    "# value corresponding to each key is sum of all the row of training data corresponding to the current class\n",
    "def fit(x_train, y_train):\n",
    "    count = dict()\n",
    "    for i in range(20):\n",
    "        needed_docs = x_train[y_train==i] # All the documents we need to work upon corresponding to the class i\n",
    "        count[i] = dict()\n",
    "        count[i]['total'] = 0 # Total number of words in class i\n",
    "        for j in range(len(features)):\n",
    "            count[i][features[j]] = needed_docs[:,j].sum() # How many times jth feature is coming corresponding to class i\n",
    "            count[i]['total']+=count[i][features[j]] # Total number of words in class i\n",
    "    return count # Returning the dictionary\n",
    "\n",
    "#This \"Probability\" function takes takes the dictionary which was originally returned by fit function, the current data point and the current class as its parameters\n",
    "def probability(dictionary, x, current_class):\n",
    "    probas_for_each_word=[]\n",
    "    for i in range(len(x)):\n",
    "        #iterating through each feature.\n",
    "        if x[i] != 0: # Skipping those features whose value corresponding to the current document is 0\n",
    "            numerator = dictionary[current_class][features[i]] # Denotes that how many times that ith feature is occuring in \"current_class\"\n",
    "            # This numerator of our NON LOGARITHMIC PROBABILITY\n",
    "            denominator = dictionary[current_class]['total'] # Denotes the total number of words in the current class\n",
    "            # This denominator of our NON LOGARITHMIC PROBABILITY\n",
    "            proba = np.log((numerator+1)/(denominator+len(x)))\n",
    "            # \"proba\" which stores the logarithmic probability which also includes the laplace correction\n",
    "            # Here \"1\" with the numerator and len(x) with denominator denotes the laplace correction\n",
    "            probas_for_each_word.append(proba) # appended \"proba\" to the probas_for_each_word array\n",
    "    return sum(probas_for_each_word) # Returning the logarithmic sum of all the probabilities\n",
    "\n",
    "# The predict_single function takes a perticular data point \"x\" from \"predict\" function and a dictionary which was obtained from fit function\n",
    "def predict_single(dic,x):\n",
    "    classes = dictionary.keys() # Maintains all the possible different classes available\n",
    "    best_p = -1000\n",
    "    best_class = -1\n",
    "    # Initiated best_p and best_class variables with negative values because we want to consider maximum valued probabilities\n",
    "    # In the first run itself they will be replaced by positive values\n",
    "    # \"best_p\" variable denotes the best probability uptill now and \"best_class\" denotes the best class uptill now\n",
    "    first_run = True # This boolean variable is taken keeping initial negative values in mind\n",
    "    for current_class in classes:\n",
    "        # Iterating through each and every class in all possible classes.\n",
    "        p_current_class = probability(dic, x, current_class)\n",
    "        # p_current_class denotes the probability of current class.\n",
    "        if (first_run or p_current_class > best_p):\n",
    "            # If the probability of current class is higher than the best probability\n",
    "            # we will update the best probability and best class to the probability of current class and the current class\n",
    "            best_p = p_current_class\n",
    "            best_class = current_class\n",
    "        first_run = False\n",
    "    return best_class # Returning the best predicted class for the current data point\n",
    "\n",
    "# The predict function takes testing data and a dictionary as its input, where the dictionary is the one returned from fit function\n",
    "def predict(x_test, dic):\n",
    "    y_pred = [] # Maintains all the predicted classes for provided testing data\n",
    "    for doc in x_test:\n",
    "        # Iterating each document in testing data.\n",
    "        y_pred.append(predict_single(dic,doc))\n",
    "        # For each testing data point, we will append the value of predicted class to y_pred\n",
    "        # We will get that value from predict_single function\n",
    "    return y_pred # Returning the predicted data"
   ]
  },
  {
   "cell_type": "code",
   "execution_count": 16,
   "id": "2dc05160",
   "metadata": {},
   "outputs": [],
   "source": [
    "# Calling the fit function for the modified data\n",
    "dictionary = fit(x_train_modified, y_train)"
   ]
  },
  {
   "cell_type": "code",
   "execution_count": 17,
   "id": "4e0d7428",
   "metadata": {},
   "outputs": [],
   "source": [
    "# Storing the predicted values\n",
    "y_predicted = predict(x_test_modified, dictionary)"
   ]
  },
  {
   "cell_type": "code",
   "execution_count": 18,
   "id": "737c25de",
   "metadata": {},
   "outputs": [
    {
     "name": "stdout",
     "output_type": "stream",
     "text": [
      "103    0    0    0    0    0    0    0    0    0    0    0    0    0    0    5    0    3    0    3    \n",
      "0    126    1    5    2    9    1    0    0    0    0    4    0    1    2    1    0    0    0    0    \n",
      "0    3    97    9    1    26    1    0    0    0    0    2    0    0    0    0    0    0    0    0    \n",
      "0    3    2    125    6    5    3    0    0    0    0    4    2    0    0    1    0    1    0    0    \n",
      "0    1    0    2    124    1    4    1    0    0    0    3    0    1    0    0    0    0    1    0    \n",
      "0    3    0    0    2    145    0    0    1    0    0    0    0    1    0    0    0    0    1    0    \n",
      "0    3    0    7    4    2    95    3    2    2    3    6    9    1    1    1    2    1    5    0    \n",
      "0    0    0    1    0    0    4    120    1    1    1    0    3    0    2    1    1    0    2    0    \n",
      "0    0    0    0    0    0    2    0    125    0    0    0    0    0    0    0    4    0    0    0    \n",
      "0    1    0    0    0    0    0    0    0    128    2    0    0    1    0    1    1    0    1    0    \n",
      "0    0    0    0    0    0    0    1    0    0    133    0    0    0    1    0    0    1    0    0    \n",
      "0    0    0    0    0    1    0    0    0    0    0    144    0    0    0    0    0    0    0    0    \n",
      "0    3    0    9    3    3    1    3    0    0    0    3    128    0    2    0    1    0    1    0    \n",
      "0    0    0    0    0    0    1    0    0    0    0    0    1    145    3    0    0    0    1    0    \n",
      "0    2    0    0    0    0    0    0    0    0    0    1    0    1    150    0    1    0    0    0    \n",
      "0    1    0    0    0    1    0    0    0    0    0    0    0    0    0    152    1    1    3    0    \n",
      "0    0    0    0    0    0    0    0    0    0    0    1    0    0    0    0    137    0    2    0    \n",
      "1    0    0    0    0    0    0    0    0    0    0    0    0    0    0    2    0    145    1    0    \n",
      "0    1    0    0    0    0    0    0    0    2    1    2    0    0    0    0    5    2    124    1    \n",
      "9    1    0    0    0    0    0    0    0    0    0    0    0    0    2    20    4    3    4    58    \n"
     ]
    }
   ],
   "source": [
    "# Printing the confusion matrix for our own Naive Bayes Classifier\n",
    "for i in confusion_matrix(y_true=y_test, y_pred=y_predicted):\n",
    "    for j in i:\n",
    "        print(j, end=\"    \")\n",
    "    print()"
   ]
  },
  {
   "cell_type": "code",
   "execution_count": 19,
   "id": "4a05e38e",
   "metadata": {},
   "outputs": [
    {
     "name": "stdout",
     "output_type": "stream",
     "text": [
      "              precision    recall  f1-score   support\n",
      "\n",
      "           0       0.91      0.90      0.91       114\n",
      "           1       0.85      0.83      0.84       152\n",
      "           2       0.97      0.70      0.81       139\n",
      "           3       0.79      0.82      0.81       152\n",
      "           4       0.87      0.90      0.89       138\n",
      "           5       0.75      0.95      0.84       153\n",
      "           6       0.85      0.65      0.73       147\n",
      "           7       0.94      0.88      0.91       137\n",
      "           8       0.97      0.95      0.96       131\n",
      "           9       0.96      0.95      0.96       135\n",
      "          10       0.95      0.98      0.96       136\n",
      "          11       0.85      0.99      0.91       145\n",
      "          12       0.90      0.82      0.85       157\n",
      "          13       0.96      0.96      0.96       151\n",
      "          14       0.92      0.97      0.94       155\n",
      "          15       0.83      0.96      0.89       159\n",
      "          16       0.87      0.98      0.92       140\n",
      "          17       0.92      0.97      0.95       149\n",
      "          18       0.85      0.90      0.87       138\n",
      "          19       0.94      0.57      0.71       101\n",
      "\n",
      "    accuracy                           0.89      2829\n",
      "   macro avg       0.89      0.88      0.88      2829\n",
      "weighted avg       0.89      0.89      0.88      2829\n",
      "\n"
     ]
    }
   ],
   "source": [
    "# Printing the classification report for our own Naive Bayes Classifier\n",
    "print(classification_report(y_true=y_test, y_pred=y_predicted))"
   ]
  }
 ],
 "metadata": {
  "kernelspec": {
   "display_name": "Python 3 (ipykernel)",
   "language": "python",
   "name": "python3"
  },
  "language_info": {
   "codemirror_mode": {
    "name": "ipython",
    "version": 3
   },
   "file_extension": ".py",
   "mimetype": "text/x-python",
   "name": "python",
   "nbconvert_exporter": "python",
   "pygments_lexer": "ipython3",
   "version": "3.9.12"
  }
 },
 "nbformat": 4,
 "nbformat_minor": 5
}
