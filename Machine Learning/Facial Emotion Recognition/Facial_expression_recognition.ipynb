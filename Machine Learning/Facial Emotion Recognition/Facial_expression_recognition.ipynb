{
  "nbformat": 4,
  "nbformat_minor": 0,
  "metadata": {
    "colab": {
      "provenance": [],
      "collapsed_sections": []
    },
    "kernelspec": {
      "name": "python3",
      "display_name": "Python 3"
    },
    "language_info": {
      "name": "python"
    },
    "accelerator": "GPU"
  },
  "cells": [
    {
      "cell_type": "code",
      "execution_count": null,
      "metadata": {
        "colab": {
          "base_uri": "https://localhost:8080/"
        },
        "id": "zBK-H9jREDRF",
        "outputId": "340a29a9-a304-46c1-ecd3-7da68ef4f3df"
      },
      "outputs": [
        {
          "output_type": "stream",
          "name": "stdout",
          "text": [
            "fatal: destination path 'facial_expressions' already exists and is not an empty directory.\n"
          ]
        }
      ],
      "source": [
        "!git clone https://github.com/muxspace/facial_expressions.git"
      ]
    },
    {
      "cell_type": "code",
      "source": [
        "import csv\n",
        "\n",
        "data = {}\n",
        "with open(\"/content/facial_expressions/data/legend.csv\") as f:\n",
        "  reader = csv.reader(f)\n",
        "  next(reader)\n",
        "  for row in reader:\n",
        "    key = row[2].lower()\n",
        "    if key in data:\n",
        "      data[key].append(row[1])\n",
        "    else:\n",
        "      data[key] = [row[1]]"
      ],
      "metadata": {
        "id": "_EChfIFKERTw"
      },
      "execution_count": null,
      "outputs": []
    },
    {
      "cell_type": "code",
      "source": [
        "emotions_list = list(data.keys())\n",
        "emotions_list"
      ],
      "metadata": {
        "id": "IHqGZoJZFPQg",
        "colab": {
          "base_uri": "https://localhost:8080/"
        },
        "outputId": "4f561267-ead3-4719-c5ed-ff701b2fe0bb"
      },
      "execution_count": null,
      "outputs": [
        {
          "output_type": "execute_result",
          "data": {
            "text/plain": [
              "['anger',\n",
              " 'surprise',\n",
              " 'disgust',\n",
              " 'fear',\n",
              " 'neutral',\n",
              " 'happiness',\n",
              " 'sadness',\n",
              " 'contempt']"
            ]
          },
          "metadata": {},
          "execution_count": 42
        }
      ]
    },
    {
      "cell_type": "code",
      "source": [
        "import os\n",
        "import shutil\n",
        "shutil.rmtree('master_data', ignore_errors=False, onerror=None)\n",
        "\n",
        "os.mkdir('master_data')\n",
        "os.mkdir('master_data/training')\n",
        "os.mkdir('master_data/testing')"
      ],
      "metadata": {
        "id": "lFvfRumNG1cX"
      },
      "execution_count": null,
      "outputs": []
    },
    {
      "cell_type": "code",
      "source": [
        "for emotion in emotions_list:\n",
        "  os.mkdir(os.path.join('master_data/training',emotion))\n",
        "  os.mkdir(os.path.join('master_data/testing',emotion))"
      ],
      "metadata": {
        "id": "gG2eCQRcHTf2"
      },
      "execution_count": null,
      "outputs": []
    },
    {
      "cell_type": "code",
      "source": [
        "from shutil import copyfile\n",
        "split_size = 0.8\n",
        "\n",
        "for emotion,images in data.items():\n",
        "  train_size = int(split_size*len(images))\n",
        "  train_images = images[:train_size]\n",
        "  test_images = images[train_size:]\n",
        "\n",
        "  for image in train_images:\n",
        "    source = os.path.join('/content/facial_expressions/images',image)\n",
        "    dest = os.path.join('/content/master_data/training',emotion,image)\n",
        "    copyfile(source,dest)\n",
        "\n",
        "  for image in test_images:\n",
        "    source = os.path.join('/content/facial_expressions/images',image)\n",
        "    dest = os.path.join('/content/master_data/testing',emotion,image)\n",
        "    copyfile(source,dest)"
      ],
      "metadata": {
        "id": "UHdl69LrHw_6"
      },
      "execution_count": null,
      "outputs": []
    },
    {
      "cell_type": "code",
      "source": [
        "import tensorflow as tf\n",
        "from tensorflow.keras.optimizers import Adam\n",
        "from tensorflow.keras.callbacks import EarlyStopping\n",
        "from tensorflow.keras.preprocessing.image import ImageDataGenerator\n",
        "from tensorflow.keras.layers import Conv2D, MaxPooling2D, Dense, Flatten"
      ],
      "metadata": {
        "id": "nmec_hX8LI3g"
      },
      "execution_count": null,
      "outputs": []
    },
    {
      "cell_type": "code",
      "source": [
        "model = tf.keras.models.Sequential([\n",
        "    Conv2D(16,(3,3),activation='relu',input_shape=(100,100,3)),\n",
        "    MaxPooling2D(2,2),\n",
        "    Conv2D(32,(3,3),activation='relu'),\n",
        "    MaxPooling2D(2,2),\n",
        "    Conv2D(64,(3,3),activation='relu'),\n",
        "    MaxPooling2D(2,2),\n",
        "    Flatten(),\n",
        "    Dense(1024,activation='relu'),\n",
        "    Dense(8,activation='softmax')\n",
        "])\n",
        "model.compile(optimizer = Adam(lr = 0.01), loss = 'categorical_crossentropy',metrics= ['acc'])\n",
        "model.summary()"
      ],
      "metadata": {
        "id": "eMzKCeBvMKeo",
        "colab": {
          "base_uri": "https://localhost:8080/"
        },
        "outputId": "82e56781-592b-48d0-f423-f793184a76cc"
      },
      "execution_count": null,
      "outputs": [
        {
          "output_type": "stream",
          "name": "stdout",
          "text": [
            "Model: \"sequential_2\"\n",
            "_________________________________________________________________\n",
            " Layer (type)                Output Shape              Param #   \n",
            "=================================================================\n",
            " conv2d_6 (Conv2D)           (None, 98, 98, 16)        448       \n",
            "                                                                 \n",
            " max_pooling2d_6 (MaxPooling  (None, 49, 49, 16)       0         \n",
            " 2D)                                                             \n",
            "                                                                 \n",
            " conv2d_7 (Conv2D)           (None, 47, 47, 32)        4640      \n",
            "                                                                 \n",
            " max_pooling2d_7 (MaxPooling  (None, 23, 23, 32)       0         \n",
            " 2D)                                                             \n",
            "                                                                 \n",
            " conv2d_8 (Conv2D)           (None, 21, 21, 64)        18496     \n",
            "                                                                 \n",
            " max_pooling2d_8 (MaxPooling  (None, 10, 10, 64)       0         \n",
            " 2D)                                                             \n",
            "                                                                 \n",
            " flatten_2 (Flatten)         (None, 6400)              0         \n",
            "                                                                 \n",
            " dense_4 (Dense)             (None, 1024)              6554624   \n",
            "                                                                 \n",
            " dense_5 (Dense)             (None, 8)                 8200      \n",
            "                                                                 \n",
            "=================================================================\n",
            "Total params: 6,586,408\n",
            "Trainable params: 6,586,408\n",
            "Non-trainable params: 0\n",
            "_________________________________________________________________\n"
          ]
        }
      ]
    },
    {
      "cell_type": "code",
      "source": [
        "train_dir = '/content/master_data/training'\n",
        "test_dir = '/content/master_data/testing'\n",
        "\n",
        "train_datagen = ImageDataGenerator(rescale=1.0/255)\n",
        "train_generator = train_datagen.flow_from_directory(\n",
        "    train_dir,\n",
        "    target_size = (100,100),\n",
        "    class_mode = 'categorical',\n",
        "    batch_size = 128\n",
        ")\n",
        "\n",
        "test_datagen = ImageDataGenerator(rescale=1.0/255)\n",
        "test_generator = test_datagen.flow_from_directory(\n",
        "    test_dir,\n",
        "    target_size = (100,100),\n",
        "    class_mode = 'categorical',\n",
        "    batch_size = 128\n",
        ")"
      ],
      "metadata": {
        "id": "io4n6R3ZQIUP",
        "colab": {
          "base_uri": "https://localhost:8080/"
        },
        "outputId": "76f50413-0655-4335-979f-4a8eb94f66f5"
      },
      "execution_count": null,
      "outputs": [
        {
          "output_type": "stream",
          "name": "stdout",
          "text": [
            "Found 10941 images belonging to 8 classes.\n",
            "Found 2742 images belonging to 8 classes.\n"
          ]
        }
      ]
    },
    {
      "cell_type": "code",
      "source": [
        "es = EarlyStopping(monitor='val_acc',patience=2,min_delta=0.01)"
      ],
      "metadata": {
        "id": "tUcLWgwESAy9"
      },
      "execution_count": null,
      "outputs": []
    },
    {
      "cell_type": "code",
      "source": [
        "model.fit_generator(\n",
        "    train_generator,\n",
        "    epochs=10,\n",
        "    verbose=1,\n",
        "    validation_data=test_generator,\n",
        "    callbacks=[es])"
      ],
      "metadata": {
        "id": "R4zyYmIkSX1F",
        "colab": {
          "base_uri": "https://localhost:8080/"
        },
        "outputId": "eee8320f-64b7-4a67-f272-4365e0f463a3"
      },
      "execution_count": null,
      "outputs": [
        {
          "output_type": "stream",
          "name": "stdout",
          "text": [
            "Epoch 1/10\n"
          ]
        },
        {
          "output_type": "stream",
          "name": "stderr",
          "text": [
            "/usr/local/lib/python3.7/dist-packages/ipykernel_launcher.py:6: UserWarning: `Model.fit_generator` is deprecated and will be removed in a future version. Please use `Model.fit`, which supports generators.\n",
            "  \n"
          ]
        },
        {
          "output_type": "stream",
          "name": "stdout",
          "text": [
            "86/86 [==============================] - 19s 211ms/step - loss: 1.3864 - acc: 0.4819 - val_loss: 1.0427 - val_acc: 0.5011\n",
            "Epoch 2/10\n",
            "86/86 [==============================] - 17s 200ms/step - loss: 1.0457 - acc: 0.4887 - val_loss: 1.0531 - val_acc: 0.5011\n",
            "Epoch 3/10\n",
            "86/86 [==============================] - 17s 197ms/step - loss: 1.0410 - acc: 0.4856 - val_loss: 1.0355 - val_acc: 0.4668\n"
          ]
        },
        {
          "output_type": "execute_result",
          "data": {
            "text/plain": [
              "<keras.callbacks.History at 0x7fcf6e22bd10>"
            ]
          },
          "metadata": {},
          "execution_count": 50
        }
      ]
    },
    {
      "cell_type": "code",
      "source": [],
      "metadata": {
        "id": "Bh0lgFWdVynI"
      },
      "execution_count": null,
      "outputs": []
    }
  ]
}