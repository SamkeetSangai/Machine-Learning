{
 "cells": [
  {
   "cell_type": "markdown",
   "id": "1ab6535c",
   "metadata": {},
   "source": [
    "# Project: TMDb API\n",
    "\n",
    "```\n",
    "For this project, we are using the TMDb (The Movie Database) API.\n",
    "TMDb API enables you to find out the latest information about TV Shows, Movies and the biggest names in entertainment sector for a marvelous and fun TV/Movie watching experience.\n",
    "TMDb documentation\n",
    "After joining TMDb, you can easily generate a new developer API key\n",
    "Our Motivation for using TMDb API\n",
    "By collecting the data using TMDb API one can recommend TV Shows, Movies and all sorts of entertainment on the basis of user’s affinity to specific genres, actors, likes and dislikes.\n",
    "We can find details about upcoming TV Shows and Movies.\n",
    "We can find what is the most popular and/ or exclusive/new content at a given time.\n",
    "```"
   ]
  },
  {
   "cell_type": "code",
   "execution_count": 479,
   "id": "25d0d557",
   "metadata": {},
   "outputs": [],
   "source": [
    "import requests"
   ]
  },
  {
   "cell_type": "code",
   "execution_count": 480,
   "id": "5c5dcba9",
   "metadata": {},
   "outputs": [],
   "source": [
    "h = {'api_key':'6d4397429300ec07639cce3ac35b6e50'}"
   ]
  },
  {
   "cell_type": "markdown",
   "id": "a6918182",
   "metadata": {},
   "source": [
    "# TMDb 1.1\n",
    "```\n",
    "Find the 'id' of the movie \"Andhadhun\" using TMDb API.\n",
    "Output Format:\n",
    "Print the id of the movie.\n",
    "```"
   ]
  },
  {
   "cell_type": "code",
   "execution_count": 481,
   "id": "feede792",
   "metadata": {},
   "outputs": [
    {
     "name": "stdout",
     "output_type": "stream",
     "text": [
      "534780\n"
     ]
    }
   ],
   "source": [
    "response = requests.get(\"https://api.themoviedb.org/3/search/movie?api_key=6d4397429300ec07639cce3ac35b6e50&query=Andhadhun\",params=h)\n",
    "\n",
    "data = response.json()\n",
    "print(data[\"results\"][0]['id'])"
   ]
  },
  {
   "cell_type": "markdown",
   "id": "4ba51752",
   "metadata": {},
   "source": [
    "# TMDb 1.2\n",
    "```\n",
    "Fetch the company id company 'Marvel Studios' using TMDb. Print the id.\n",
    "```"
   ]
  },
  {
   "cell_type": "code",
   "execution_count": 482,
   "id": "a6c96beb",
   "metadata": {},
   "outputs": [
    {
     "name": "stdout",
     "output_type": "stream",
     "text": [
      "420\n"
     ]
    }
   ],
   "source": [
    "response = requests.get(\"https://api.themoviedb.org/3/search/company?api_key=6d4397429300ec07639cce3ac35b6e50&query=Marvel Studios\",params=h)\n",
    "\n",
    "data = response.json()\n",
    "print(data[\"results\"][0]['id'])"
   ]
  },
  {
   "cell_type": "markdown",
   "id": "ad71b9ff",
   "metadata": {},
   "source": [
    "# TMDb 1.3\n",
    "```\n",
    "Find the vote count and vote average of the movie \"3 Idiots\" using the TMDb API\n",
    "Output format: Vote Count , Vote Average\n",
    "```"
   ]
  },
  {
   "cell_type": "code",
   "execution_count": 483,
   "id": "0387648a",
   "metadata": {},
   "outputs": [
    {
     "name": "stdout",
     "output_type": "stream",
     "text": [
      "1912 8\n"
     ]
    }
   ],
   "source": [
    "response = requests.get(\"https://api.themoviedb.org/3/search/movie?api_key=6d4397429300ec07639cce3ac35b6e50&query=3 Idiots\",params=h)\n",
    "\n",
    "data = response.json()\n",
    "vote = 0\n",
    "\n",
    "print(data[\"results\"][0]['vote_count'],data[\"results\"][0]['vote_average'])"
   ]
  },
  {
   "cell_type": "markdown",
   "id": "40f67cca",
   "metadata": {},
   "source": [
    "# TMDb 1.4\n",
    "```\n",
    "Fetch the names of top 5 similar movies to 'Inception' from the TMDb API.\n",
    "Output Format:\n",
    "Print the name of the movies in a new line.\n",
    "movie_name_1\n",
    "movie_name_2\n",
    "and so on\n",
    "```"
   ]
  },
  {
   "cell_type": "code",
   "execution_count": 484,
   "id": "27da1382",
   "metadata": {},
   "outputs": [],
   "source": [
    "response = requests.get(\"https://api.themoviedb.org/3/search/movie\", params={'api_key':'6d4397429300ec07639cce3ac35b6e50','query':\"Inception\"})\n",
    "\n",
    "data = response.json()\n",
    "\n",
    "for r in data['results']:\n",
    "    if r['title'] == 'Inception':\n",
    "        ID = r['id']"
   ]
  },
  {
   "cell_type": "code",
   "execution_count": 485,
   "id": "dcd3076c",
   "metadata": {},
   "outputs": [
    {
     "name": "stdout",
     "output_type": "stream",
     "text": [
      "Inception\n",
      "The Vow\n",
      "Paranormal Activity 3\n",
      "Jack Reacher\n",
      "My Week with Marilyn\n"
     ]
    }
   ],
   "source": [
    "response = requests.get('https://api.themoviedb.org/3/movie/846190/similar',params=h) \n",
    "data = response.json()\n",
    "\n",
    "for r in data['results'][:5]:\n",
    "    print(r['title'])"
   ]
  },
  {
   "cell_type": "markdown",
   "id": "2f61a020",
   "metadata": {},
   "source": [
    "# TMDb 1.5\n",
    "```\n",
    "Fetch the top rated english movies in the US region using the TMDb API. From the result, print the first 10 movies which have original language as english. Also print their genres.\n",
    "Note: Do not use the search/movies API for finding genres.\n",
    "Output Format:\n",
    "movie_name_1 - genre_1, genre_2 ....\n",
    "and so on..\n",
    "```"
   ]
  },
  {
   "cell_type": "code",
   "execution_count": 486,
   "id": "1c172ac4",
   "metadata": {},
   "outputs": [
    {
     "data": {
      "text/plain": [
       "{28: 'Action',\n",
       " 12: 'Adventure',\n",
       " 16: 'Animation',\n",
       " 35: 'Comedy',\n",
       " 80: 'Crime',\n",
       " 99: 'Documentary',\n",
       " 18: 'Drama',\n",
       " 10751: 'Family',\n",
       " 14: 'Fantasy',\n",
       " 36: 'History',\n",
       " 27: 'Horror',\n",
       " 10402: 'Music',\n",
       " 9648: 'Mystery',\n",
       " 10749: 'Romance',\n",
       " 878: 'Science Fiction',\n",
       " 10770: 'TV Movie',\n",
       " 53: 'Thriller',\n",
       " 10752: 'War',\n",
       " 37: 'Western'}"
      ]
     },
     "execution_count": 486,
     "metadata": {},
     "output_type": "execute_result"
    }
   ],
   "source": [
    "response = requests.get('https://api.themoviedb.org/3/genre/movie/list',params=h) \n",
    "\n",
    "data = response.json()\n",
    "\n",
    "genres = {}\n",
    "for g in data['genres']:\n",
    "    genres[g['id']] = g['name']\n",
    "    \n",
    "genres"
   ]
  },
  {
   "cell_type": "code",
   "execution_count": 487,
   "id": "b10bdb70",
   "metadata": {},
   "outputs": [
    {
     "name": "stdout",
     "output_type": "stream",
     "text": [
      "The Godfather - Drama, Crime, \n",
      "The Shawshank Redemption - Drama, Crime, \n",
      "The Godfather Part II - Drama, Crime, \n",
      "Schindler's List - Drama, History, War, \n",
      "12 Angry Men - Drama, \n",
      "Gabriel's Inferno: Part II - Romance, \n",
      "The Green Mile - Fantasy, Drama, Crime, \n",
      "Gabriel's Inferno - Romance, \n",
      "The Dark Knight - Drama, Action, Crime, Thriller, \n",
      "Pulp Fiction - Thriller, Crime, \n"
     ]
    }
   ],
   "source": [
    "response = requests.get('https://api.themoviedb.org/3/movie/top_rated',params={'api_key':'6d4397429300ec07639cce3ac35b6e50','region':'US'}) \n",
    "\n",
    "data = response.json()\n",
    "\n",
    "count = 0\n",
    "for r in data['results']:\n",
    "    if r['original_language'] == 'en':\n",
    "        print(r['title'],end=' - ')\n",
    "        for gi in r['genre_ids']:\n",
    "            print(genres[gi],end=', ')\n",
    "        print()\n",
    "        count+=1\n",
    "    if count == 10:\n",
    "        break"
   ]
  },
  {
   "cell_type": "markdown",
   "id": "69178e49",
   "metadata": {},
   "source": [
    "# TMDb 2.1\n",
    "```\n",
    "Find the name and birthplace of the present most popular person according to TMDb API.\n",
    "Output Format:\n",
    "id\n",
    "name - birthplace\n",
    "```"
   ]
  },
  {
   "cell_type": "code",
   "execution_count": 488,
   "id": "53dc9671",
   "metadata": {},
   "outputs": [
    {
     "name": "stdout",
     "output_type": "stream",
     "text": [
      "1907997\n"
     ]
    }
   ],
   "source": [
    "response = requests.get('https://api.themoviedb.org/3/person/popular',params=h) \n",
    "\n",
    "data = response.json()\n",
    "\n",
    "data = data['results'][0]\n",
    "MostPopularId = data['id']\n",
    "print(MostPopularId)"
   ]
  },
  {
   "cell_type": "code",
   "execution_count": 489,
   "id": "bcbc8531",
   "metadata": {},
   "outputs": [
    {
     "name": "stdout",
     "output_type": "stream",
     "text": [
      "Min Do-yoon - Seoul, South Korea\n"
     ]
    }
   ],
   "source": [
    "response = requests.get('https://api.themoviedb.org/3/person/1907997',params=h) \n",
    "\n",
    "data = response.json()\n",
    "\n",
    "print(data['name'],'-',data['place_of_birth'])"
   ]
  },
  {
   "cell_type": "markdown",
   "id": "2b647490",
   "metadata": {},
   "source": [
    "# TMDb 2.2\n",
    "```\n",
    "Fetch the Instagram and Twitter handle of Indian Actress \"Alia Bhatt\" from the TMDb API.\n",
    "Output Format\n",
    "Print the Instagram and Twitter IDs space separated.\n",
    "instagram_id twitter_id\n",
    "```"
   ]
  },
  {
   "cell_type": "code",
   "execution_count": 490,
   "id": "48d97a39",
   "metadata": {},
   "outputs": [],
   "source": [
    "response = requests.get('https://api.themoviedb.org/3/search/person',params={'api_key':'6d4397429300ec07639cce3ac35b6e50','query':'Alia Bhatt'}) \n",
    "\n",
    "data = response.json()\n",
    "\n",
    "ID  = data['results'][0]['id']"
   ]
  },
  {
   "cell_type": "code",
   "execution_count": 491,
   "id": "00a230e1",
   "metadata": {},
   "outputs": [
    {
     "name": "stdout",
     "output_type": "stream",
     "text": [
      "aliaabhatt Aliaa08\n"
     ]
    }
   ],
   "source": [
    "response = requests.get(f'https://api.themoviedb.org/3/person/{ID}/external_ids',params=h) \n",
    "\n",
    "data = response.json()\n",
    "\n",
    "print(data['instagram_id'],data['twitter_id'])"
   ]
  },
  {
   "cell_type": "markdown",
   "id": "d17c114c",
   "metadata": {},
   "source": [
    "# TMDb 2.3\n",
    "```\n",
    "Fetch the names of the character played by Tom Cruise in the movies:\n",
    "Top Gun\n",
    "Mission: Impossible - Fallout\n",
    "Minority Report\n",
    "Edge of Tomorrow\n",
    "Output Format:\n",
    "Print the names of the characters played by Tom Cruise line separated, in the respective order given in question.\n",
    "```"
   ]
  },
  {
   "cell_type": "code",
   "execution_count": 492,
   "id": "4b6a7c71",
   "metadata": {},
   "outputs": [],
   "source": [
    "response = requests.get('https://api.themoviedb.org/3/search/person',params={'api_key':'6d4397429300ec07639cce3ac35b6e50','query':'Tom Cruise'}) \n",
    "\n",
    "data = response.json()\n",
    "\n",
    "ID  = data['results'][0]['id']"
   ]
  },
  {
   "cell_type": "code",
   "execution_count": 493,
   "id": "da07464f",
   "metadata": {},
   "outputs": [
    {
     "name": "stdout",
     "output_type": "stream",
     "text": [
      "Lt. Pete 'Maverick' Mitchell\n",
      "Ethan Hunt\n",
      "Chief John Anderton\n",
      "Maj. William 'Bill' Cage\n"
     ]
    }
   ],
   "source": [
    "response = requests.get(f'https://api.themoviedb.org/3/person/500/movie_credits',params=h) \n",
    "\n",
    "data = response.json()\n",
    "\n",
    "for i in data['cast']:\n",
    "    if i['title'] == 'Top Gun':\n",
    "        print(i['character'])\n",
    "        break\n",
    "for i in data['cast']:\n",
    "    if i['title'] == 'Mission: Impossible - Fallout': \n",
    "        print(i['character'])\n",
    "        break\n",
    "for i in data['cast']:\n",
    "    if i['title'] == 'Minority Report': \n",
    "        print(i['character'])\n",
    "        break\n",
    "for i in data['cast']:\n",
    "    if i['title'] == 'Edge of Tomorrow': \n",
    "        print(i['character'])\n",
    "        break"
   ]
  },
  {
   "cell_type": "markdown",
   "id": "13e05b74",
   "metadata": {},
   "source": [
    "# TMDb 2.4\n",
    "```\n",
    "Did mames McAvoy play a role in the movie Deadpool 2. Print Yes or No.\n",
    "```"
   ]
  },
  {
   "cell_type": "code",
   "execution_count": 494,
   "id": "6ca543b2",
   "metadata": {},
   "outputs": [
    {
     "data": {
      "text/plain": [
       "5530"
      ]
     },
     "execution_count": 494,
     "metadata": {},
     "output_type": "execute_result"
    }
   ],
   "source": [
    "response = requests.get('https://api.themoviedb.org/3/search/person',params={'api_key':'6d4397429300ec07639cce3ac35b6e50','query':'McAvoy'}) \n",
    "\n",
    "data = response.json()\n",
    "\n",
    "ID  = data['results'][0]['id']\n",
    "ID"
   ]
  },
  {
   "cell_type": "code",
   "execution_count": 495,
   "id": "4a6eb914",
   "metadata": {},
   "outputs": [
    {
     "name": "stdout",
     "output_type": "stream",
     "text": [
      "Yes\n"
     ]
    }
   ],
   "source": [
    "response = requests.get(f'https://api.themoviedb.org/3/person/{ID}/movie_credits',params=h) \n",
    "\n",
    "data = response.json()\n",
    "\n",
    "for i in data['cast']:\n",
    "    if 'Deadpool' in i['title']:\n",
    "        print('Yes')\n",
    "        break\n",
    "else:\n",
    "    print('No')"
   ]
  },
  {
   "cell_type": "markdown",
   "id": "62452633",
   "metadata": {},
   "source": [
    "# TMDb 2.5\n",
    "```\n",
    "Using the result obtained in previous question, find out if James McAvoy was credited for his role in movie Deadpool 2. Print Yes or No.\n",
    "```"
   ]
  },
  {
   "cell_type": "code",
   "execution_count": 496,
   "id": "b9f56240",
   "metadata": {},
   "outputs": [
    {
     "name": "stdout",
     "output_type": "stream",
     "text": [
      "No\n"
     ]
    }
   ],
   "source": [
    "for result in data['cast']:\n",
    "    if result['title'] == 'Deadpool 2':\n",
    "        print('No')\n",
    "        break\n",
    "else:\n",
    "    print('Yes')"
   ]
  },
  {
   "cell_type": "markdown",
   "id": "0b9f641d",
   "metadata": {},
   "source": [
    "# TMDb 3.1\n",
    "```\n",
    "Fetch the overview of the TV Show \"FRIENDS\" using TMDb API.\n",
    "Output Format:\n",
    "Print the Overview.\n",
    "```"
   ]
  },
  {
   "cell_type": "code",
   "execution_count": 497,
   "id": "ff3e594e",
   "metadata": {},
   "outputs": [
    {
     "name": "stdout",
     "output_type": "stream",
     "text": [
      "Six young people from New York City, on their own and struggling to survive in the real world, find the companionship, comfort and support they get from each other to be the perfect antidote to the pressures of life.\n"
     ]
    }
   ],
   "source": [
    "response = requests.get('https://api.themoviedb.org/3/search/tv',params={'api_key':'6d4397429300ec07639cce3ac35b6e50','query':'FRIENDS'}) \n",
    "\n",
    "data = response.json()\n",
    "\n",
    "for r in data['results']:\n",
    "    if r['original_name']=='Friends':\n",
    "        print(r['overview'])\n",
    "        break"
   ]
  },
  {
   "cell_type": "markdown",
   "id": "4114490d",
   "metadata": {},
   "source": [
    "# TMDb 3.2\n",
    "```\n",
    "Fetch the name and air date of S06E05 of the TV Show 'The Big Bang Theory' from TMDb API.\n",
    "Output Format:\n",
    "episode_name - air_date\n",
    "```"
   ]
  },
  {
   "cell_type": "code",
   "execution_count": 498,
   "id": "06078999",
   "metadata": {},
   "outputs": [
    {
     "data": {
      "text/plain": [
       "1418"
      ]
     },
     "execution_count": 498,
     "metadata": {},
     "output_type": "execute_result"
    }
   ],
   "source": [
    "response = requests.get('https://api.themoviedb.org/3/search/tv',params={'api_key':'6d4397429300ec07639cce3ac35b6e50','query':'The Big Bang Theory'}) \n",
    "\n",
    "data = response.json()\n",
    "\n",
    "for r in data['results']:\n",
    "    if r['original_name'] == 'The Big Bang Theory':\n",
    "        ID = r['id']\n",
    "        break\n",
    "ID"
   ]
  },
  {
   "cell_type": "code",
   "execution_count": 499,
   "id": "94d28071",
   "metadata": {},
   "outputs": [
    {
     "name": "stdout",
     "output_type": "stream",
     "text": [
      "The Holographic Excitation - 2012-10-25\n"
     ]
    }
   ],
   "source": [
    "response = requests.get('https://api.themoviedb.org/3/tv/1418/season/06/episode/05',params={'api_key':'6d4397429300ec07639cce3ac35b6e50','query':'The Big Bang Theory'}) \n",
    "\n",
    "data = response.json()\n",
    "\n",
    "print(data['name'],'-',data['air_date'])"
   ]
  },
  {
   "cell_type": "markdown",
   "id": "863d3dcd",
   "metadata": {},
   "source": [
    "# TMDb 3.3\n",
    "```\n",
    "Fetch the trending TV Shows for the week from the TMDb API and print the taglines of the top 5 shows. If there is no tagline, print 'Empty' instead\n",
    "Output Format:\n",
    "Print the taglines in new line.\n",
    "```"
   ]
  },
  {
   "cell_type": "code",
   "execution_count": 500,
   "id": "e0889151",
   "metadata": {},
   "outputs": [
    {
     "name": "stdout",
     "output_type": "stream",
     "text": [
      "Journey to Middle-earth.\n",
      "Fire and blood.\n",
      "The Rebellion begins.\n",
      "You'll like her when she's angry.\n",
      "Empty\n"
     ]
    }
   ],
   "source": [
    "response = requests.get('https://api.themoviedb.org/3/trending/tv/week',params=h) \n",
    "\n",
    "data = response.json()\n",
    "\n",
    "ID = []\n",
    "\n",
    "for r in data['results'][:5]:\n",
    "    ID.append(r['id'])\n",
    "    \n",
    "for i in ID:\n",
    "    response = requests.get(f'https://api.themoviedb.org/3/tv/{i}',params=h) \n",
    "    data = response.json()\n",
    "    if data['tagline'] == '':\n",
    "        print('Empty')\n",
    "    else:\n",
    "        print(data['tagline'])"
   ]
  },
  {
   "cell_type": "markdown",
   "id": "71cf13fa",
   "metadata": {},
   "source": [
    "# TMDb 3.4\n",
    "```\n",
    "Print the names of all the TV shows to be aired today whose original language is english.\n",
    "Output Format:\n",
    "Print the name of each TV show in a new line.\n",
    "```"
   ]
  },
  {
   "cell_type": "code",
   "execution_count": 501,
   "id": "e069384a",
   "metadata": {},
   "outputs": [
    {
     "name": "stdout",
     "output_type": "stream",
     "text": [
      "House of the Dragon\n",
      "The Walking Dead\n",
      "Rick and Morty\n",
      "The Simpsons\n",
      "Family Guy\n",
      "SEAL Team\n",
      "The Rookie\n",
      "NCIS: Los Angeles\n",
      "Bob's Burgers\n",
      "Heartland\n",
      "SAINT SEIYA: Knights of the Zodiac\n",
      "PBS News Weekend\n",
      "Power Book III: Raising Kanan\n",
      "Last Week Tonight with John Oliver\n",
      "Interview with the Vampire\n",
      "Chesapeake Shores\n",
      "¿Cómo se llama esta relación?\n",
      "American Gigolo\n",
      "Imlie y Cheeni\n",
      "The Equalizer\n",
      "The Serpent Queen\n",
      "America's Funniest Home Videos\n",
      "Talking Dead\n",
      "Strictly Come Dancing\n",
      "Hudson & Rex\n",
      "Bloodlands\n",
      "The Great North\n",
      "The Block\n",
      "Spicks and Specks\n",
      "East New York\n",
      "90 Day Fiancé: Pillow Talk\n",
      "Married to Medicine\n",
      "Karen Pirie\n",
      "90 Day Fiancé: Happily Ever After?\n",
      "Paranormal Caught on Camera\n",
      "Let the Right One In\n",
      "The Amazing Race Australia\n",
      "Savage River\n",
      "The Real Housewives of Potomac\n",
      "An/Na\n",
      "The Ranganation\n",
      "Antiques Roadshow\n",
      "Frozen Planet II\n",
      "The Circus\n",
      "Match of the Day 2\n",
      "Air Disasters\n",
      "Blumhouse's Compendium of Horror\n",
      "Stanley Tucci: Searching for Italy\n",
      "999: On the Front Line\n",
      "Ghosts of Devil's Perch\n",
      "Celebrity Wheel of Fortune\n",
      "Halloween Wars\n",
      "The Great Canadian Baking Show\n",
      "North Sea Connection\n",
      "Black Widow Murders\n",
      "Spector\n",
      "Celebrity SAS: Who Dares Wins\n",
      "Evil Lives Here: Shadows Of Death\n",
      "Celebrity Lingo\n",
      "Celebrity Jeopardy!\n",
      "Dance School\n",
      "Chequered Flag\n",
      "Grand Prix Sunday\n",
      "Colin & Justin's Hotel Hell\n",
      "Wreck\n",
      "Alaskan Bush People\n",
      "ライジングでのNUMBER GIRL\n",
      "RISING SUN ROCK FESTIVAL\n",
      "Model America\n",
      "Sunday with Laura Kuenssberg\n",
      "Jack Osbourne's Haunted Homecoming\n",
      "Outrageous Pumpkins\n",
      "Alaska: The Last Frontier\n",
      "Fareed Zakaria GPS\n",
      "A Cut Above\n"
     ]
    }
   ],
   "source": [
    "response = requests.get('https://api.themoviedb.org/3/tv/airing_today',params=h) \n",
    "\n",
    "data = response.json()\n",
    "\n",
    "total_pages = data['total_pages']\n",
    "\n",
    "for p in range(1,total_pages+1,1):\n",
    "    response = requests.get('https://api.themoviedb.org/3/tv/airing_today',params={'api_key':'6d4397429300ec07639cce3ac35b6e50','page':p}) \n",
    "    data = response.json()\n",
    "    for r in data['results']:\n",
    "        if r['original_language'] == 'en':\n",
    "            print(r['name'])"
   ]
  },
  {
   "cell_type": "markdown",
   "id": "0eb93bb5",
   "metadata": {},
   "source": [
    "# TMDb 3.5\n",
    "```\n",
    "Count the number of males and females in the cast of \"Money Heist\" using the TMDb API.\n",
    "Output Format:\n",
    "Print the count of male and female space separated.\n",
    "male_count female_count\n",
    "```"
   ]
  },
  {
   "cell_type": "code",
   "execution_count": 504,
   "id": "73ee4145",
   "metadata": {},
   "outputs": [
    {
     "name": "stdout",
     "output_type": "stream",
     "text": [
      "5 10\n"
     ]
    }
   ],
   "source": [
    "response = requests.get('https://api.themoviedb.org/3/search/tv',params={'api_key':'6d4397429300ec07639cce3ac35b6e50','query':'Money Heist'}) \n",
    "\n",
    "data = response.json()\n",
    "\n",
    "for r in data['results']:\n",
    "    if r['name'] == 'Money Heist':\n",
    "        ID = r['id']\n",
    "        \n",
    "response = requests.get(F'https://api.themoviedb.org/3/tv/{ID}/credits',params=h) \n",
    "data = response.json()\n",
    "\n",
    "Female = 0\n",
    "Male = 0\n",
    "\n",
    "for  i in data['cast']:\n",
    "    if i['gender'] == 1:\n",
    "        Male+=1\n",
    "    elif i['gender'] == 2:\n",
    "        Female+=1\n",
    "        \n",
    "print(Male,Female)"
   ]
  },
  {
   "cell_type": "code",
   "execution_count": null,
   "id": "3252d292",
   "metadata": {},
   "outputs": [],
   "source": []
  }
 ],
 "metadata": {
  "kernelspec": {
   "display_name": "Python 3 (ipykernel)",
   "language": "python",
   "name": "python3"
  },
  "language_info": {
   "codemirror_mode": {
    "name": "ipython",
    "version": 3
   },
   "file_extension": ".py",
   "mimetype": "text/x-python",
   "name": "python",
   "nbconvert_exporter": "python",
   "pygments_lexer": "ipython3",
   "version": "3.9.12"
  }
 },
 "nbformat": 4,
 "nbformat_minor": 5
}
