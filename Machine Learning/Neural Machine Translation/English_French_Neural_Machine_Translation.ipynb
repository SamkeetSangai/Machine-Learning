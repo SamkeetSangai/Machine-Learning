{
  "nbformat": 4,
  "nbformat_minor": 0,
  "metadata": {
    "colab": {
      "provenance": [],
      "collapsed_sections": []
    },
    "kernelspec": {
      "name": "python3",
      "display_name": "Python 3"
    },
    "language_info": {
      "name": "python"
    },
    "accelerator": "GPU"
  },
  "cells": [
    {
      "cell_type": "markdown",
      "source": [
        "Import Required Libraries"
      ],
      "metadata": {
        "id": "acEd6Ha8c0Z_"
      }
    },
    {
      "cell_type": "code",
      "execution_count": 6,
      "metadata": {
        "id": "QcnQ3UF8NX2M"
      },
      "outputs": [],
      "source": [
        "import re\n",
        "import string\n",
        "import shutil\n",
        "import numpy as np\n",
        "import pandas as pd\n",
        "from keras import optimizers\n",
        "from keras.models import load_model\n",
        "from keras.models import Sequential\n",
        "from keras.callbacks import ModelCheckpoint\n",
        "from numpy import array, argmax, random, take\n",
        "from keras.preprocessing.text import Tokenizer\n",
        "from nltk.translate.bleu_score import sentence_bleu\n",
        "from sklearn.model_selection import train_test_split\n",
        "from keras_preprocessing.sequence import pad_sequences\n",
        "from keras.layers import Dense, LSTM, Embedding, RepeatVector\n",
        "\n",
        "import matplotlib.pyplot as plt\n",
        "%matplotlib inline\n",
        "pd.set_option('display.max_colwidth', 200)"
      ]
    },
    {
      "cell_type": "markdown",
      "source": [
        "Read Data"
      ],
      "metadata": {
        "id": "-66f5BGTc5P8"
      }
    },
    {
      "cell_type": "code",
      "source": [
        "# function to read raw text file \n",
        "def read_text(filename): \n",
        "  # open the file \n",
        "  file = open(filename, mode='rt', encoding='utf-8') \n",
        "  # read all text \n",
        "  text = file.read() \n",
        "  file.close() \n",
        "  return text"
      ],
      "metadata": {
        "id": "sENUA_ZzNhYF"
      },
      "execution_count": 7,
      "outputs": []
    },
    {
      "cell_type": "code",
      "source": [
        "# split a text into sentences \n",
        "def to_lines(text): \n",
        "  sents = text.strip().split('\\n') \n",
        "  sents = [i.split('\\t')[:2] for i in sents] \n",
        "  return sents"
      ],
      "metadata": {
        "id": "f-DOMy7fNvku"
      },
      "execution_count": 8,
      "outputs": []
    },
    {
      "cell_type": "code",
      "source": [
        "data = read_text(\"fra.txt\") \n",
        "fre_eng = to_lines(data) \n",
        "fre_eng = array(fre_eng)\n",
        "fre_eng"
      ],
      "metadata": {
        "colab": {
          "base_uri": "https://localhost:8080/"
        },
        "id": "AUOxxiaQN9Cn",
        "outputId": "6f55a629-66ce-4c46-bb05-dd3c41e1441a"
      },
      "execution_count": 9,
      "outputs": [
        {
          "output_type": "execute_result",
          "data": {
            "text/plain": [
              "array([['Go.', 'Va !'],\n",
              "       ['Go.', 'Marche.'],\n",
              "       ['Go.', 'En route !'],\n",
              "       ...,\n",
              "       ['It should be like this.', 'Ça devrait être ainsi.'],\n",
              "       ['It smells like ammonia.', \"Ça a une odeur d'ammoniac.\"],\n",
              "       ['It sounds like a dream.', 'Ça ressemble à un rêve.']],\n",
              "      dtype='<U72')"
            ]
          },
          "metadata": {},
          "execution_count": 9
        }
      ]
    },
    {
      "cell_type": "code",
      "source": [
        "fre_eng = fre_eng[:50000,:]"
      ],
      "metadata": {
        "id": "sW3zzfc5OLTO"
      },
      "execution_count": 10,
      "outputs": []
    },
    {
      "cell_type": "markdown",
      "source": [
        "Text Pre-Processing"
      ],
      "metadata": {
        "id": "RIdBYeODc_5f"
      }
    },
    {
      "cell_type": "code",
      "source": [
        "# Remove punctuation\n",
        "fre_eng[:,0] = [s.translate(str.maketrans('', '', string.punctuation)) for s in fre_eng[:,0]]\n",
        "fre_eng[:,1] = [s.translate(str.maketrans('', '', string.punctuation)) for s in fre_eng[:,1]]\n",
        "\n",
        "fre_eng"
      ],
      "metadata": {
        "colab": {
          "base_uri": "https://localhost:8080/"
        },
        "id": "bzCWhvb6Ov4x",
        "outputId": "5a1cfd9e-786f-42b7-e451-0addcc9ce147"
      },
      "execution_count": 11,
      "outputs": [
        {
          "output_type": "execute_result",
          "data": {
            "text/plain": [
              "array([['Go', 'Va '],\n",
              "       ['Go', 'Marche'],\n",
              "       ['Go', 'En route '],\n",
              "       ...,\n",
              "       ['I need to go to sleep', 'Je dois aller dormir'],\n",
              "       ['I need to keep moving', 'Je dois continuer à avancer'],\n",
              "       ['I need to make a copy', 'Je dois faire une copie']], dtype='<U72')"
            ]
          },
          "metadata": {},
          "execution_count": 11
        }
      ]
    },
    {
      "cell_type": "code",
      "source": [
        "# convert text to lowercase\n",
        "for i in range(len(fre_eng)):\n",
        "  fre_eng[i,0] = fre_eng[i,0].lower()\n",
        "  fre_eng[i,1] = fre_eng[i,1].lower()\n",
        "\n",
        "fre_eng"
      ],
      "metadata": {
        "colab": {
          "base_uri": "https://localhost:8080/"
        },
        "id": "yhU69s80O83G",
        "outputId": "1784a67a-3203-4b84-bd21-e72a91e50cc2"
      },
      "execution_count": 12,
      "outputs": [
        {
          "output_type": "execute_result",
          "data": {
            "text/plain": [
              "array([['go', 'va '],\n",
              "       ['go', 'marche'],\n",
              "       ['go', 'en route '],\n",
              "       ...,\n",
              "       ['i need to go to sleep', 'je dois aller dormir'],\n",
              "       ['i need to keep moving', 'je dois continuer à avancer'],\n",
              "       ['i need to make a copy', 'je dois faire une copie']], dtype='<U72')"
            ]
          },
          "metadata": {},
          "execution_count": 12
        }
      ]
    },
    {
      "cell_type": "code",
      "source": [
        "# empty lists\n",
        "eng_l = []\n",
        "fre_l = []\n",
        "\n",
        "# populate the lists with sentence lengths\n",
        "for i in fre_eng[:,0]:\n",
        "  eng_l.append(len(i.split()))\n",
        "\n",
        "for i in fre_eng[:,1]:\n",
        "  fre_l.append(len(i.split()))\n",
        "\n",
        "length_df = pd.DataFrame({'English':eng_l, 'French':fre_l})\n",
        "\n",
        "length_df.hist(bins = 30)\n",
        "plt.show()"
      ],
      "metadata": {
        "colab": {
          "base_uri": "https://localhost:8080/",
          "height": 281
        },
        "id": "MEGslE8AO__Z",
        "outputId": "4962680d-42fc-4d17-ff58-9af9208095df"
      },
      "execution_count": 13,
      "outputs": [
        {
          "output_type": "display_data",
          "data": {
            "text/plain": [
              "<Figure size 432x288 with 2 Axes>"
            ],
            "image/png": "[encoded data removed]"
          },
          "metadata": {
            "needs_background": "light"
          }
        }
      ]
    },
    {
      "cell_type": "code",
      "source": [
        "# function to build a tokenizer\n",
        "def tokenization(lines):\n",
        "  tokenizer = Tokenizer()\n",
        "  tokenizer.fit_on_texts(lines)\n",
        "  return tokenizer"
      ],
      "metadata": {
        "id": "71Ndf5YJPFyF"
      },
      "execution_count": 14,
      "outputs": []
    },
    {
      "cell_type": "code",
      "source": [
        "# prepare english tokenizer\n",
        "eng_tokenizer = tokenization(fre_eng[:, 0])\n",
        "eng_vocab_size = len(eng_tokenizer.word_index) + 1\n",
        "\n",
        "eng_length = 8\n",
        "print('English Vocabulary Size: %d' % eng_vocab_size)"
      ],
      "metadata": {
        "colab": {
          "base_uri": "https://localhost:8080/"
        },
        "id": "prgrKO7vPOZS",
        "outputId": "b2148523-59ab-485d-fa98-b2307e02f2a1"
      },
      "execution_count": 15,
      "outputs": [
        {
          "output_type": "stream",
          "name": "stdout",
          "text": [
            "English Vocabulary Size: 6142\n"
          ]
        }
      ]
    },
    {
      "cell_type": "code",
      "source": [
        "# prepare French tokenizer\n",
        "fre_tokenizer = tokenization(fre_eng[:, 1])\n",
        "fre_vocab_size = len(fre_tokenizer.word_index) + 1\n",
        "\n",
        "fre_length = 8\n",
        "print('French Vocabulary Size: %d' % fre_vocab_size)"
      ],
      "metadata": {
        "colab": {
          "base_uri": "https://localhost:8080/"
        },
        "id": "vjM3JihWPZUN",
        "outputId": "cc3f5ab4-e019-4679-cffd-f0979f54a2f3"
      },
      "execution_count": 16,
      "outputs": [
        {
          "output_type": "stream",
          "name": "stdout",
          "text": [
            "French Vocabulary Size: 14167\n"
          ]
        }
      ]
    },
    {
      "cell_type": "code",
      "source": [
        "# encode and pad sequences\n",
        "def encode_sequences(tokenizer, length, lines):\n",
        "  # integer encode sequences\n",
        "  seq = tokenizer.texts_to_sequences(lines)\n",
        "  # pad sequences with 0 values\n",
        "  seq = pad_sequences(seq, maxlen=length, padding='post')\n",
        "  return seq"
      ],
      "metadata": {
        "id": "z9ozr01SPa2h"
      },
      "execution_count": 17,
      "outputs": []
    },
    {
      "cell_type": "code",
      "source": [
        "# split data into train and test set\n",
        "train, test = train_test_split(fre_eng, test_size=0.2, random_state = 12)"
      ],
      "metadata": {
        "id": "VOYRBFdSPhUp"
      },
      "execution_count": 18,
      "outputs": []
    },
    {
      "cell_type": "code",
      "source": [
        "# prepare training data\n",
        "trainX = encode_sequences(fre_tokenizer, fre_length, train[:, 1])\n",
        "trainY = encode_sequences(eng_tokenizer, eng_length, train[:, 0])\n",
        "\n",
        "# prepare validation data\n",
        "testX = encode_sequences(fre_tokenizer, fre_length, test[:, 1])\n",
        "testY = encode_sequences(eng_tokenizer, eng_length, test[:, 0])"
      ],
      "metadata": {
        "id": "jtWP3s-DPm9A"
      },
      "execution_count": 19,
      "outputs": []
    },
    {
      "cell_type": "markdown",
      "source": [
        "Model Building"
      ],
      "metadata": {
        "id": "0pfDEc4tdSJf"
      }
    },
    {
      "cell_type": "code",
      "source": [
        "# build NMT model\n",
        "def define_model(in_vocab,out_vocab, in_timesteps,out_timesteps,units):\n",
        "  model = Sequential()\n",
        "  model.add(Embedding(in_vocab, units, input_length=in_timesteps, mask_zero=True))\n",
        "  model.add(LSTM(units))\n",
        "  model.add(RepeatVector(out_timesteps))\n",
        "  model.add(LSTM(units, return_sequences=True))\n",
        "  model.add(Dense(out_vocab, activation='softmax'))\n",
        "  return model"
      ],
      "metadata": {
        "id": "0Uyuc5e1Po8Q"
      },
      "execution_count": 20,
      "outputs": []
    },
    {
      "cell_type": "code",
      "source": [
        "# model compilation\n",
        "model = define_model(fre_vocab_size, eng_vocab_size, fre_length, eng_length, 512)\n",
        "model.summary()"
      ],
      "metadata": {
        "colab": {
          "base_uri": "https://localhost:8080/"
        },
        "id": "cjgE3MQjP-rQ",
        "outputId": "b155fdc5-15e2-4f11-d954-37e356118f90"
      },
      "execution_count": 21,
      "outputs": [
        {
          "output_type": "stream",
          "name": "stdout",
          "text": [
            "Model: \"sequential\"\n",
            "_________________________________________________________________\n",
            " Layer (type)                Output Shape              Param #   \n",
            "=================================================================\n",
            " embedding (Embedding)       (None, 8, 512)            7253504   \n",
            "                                                                 \n",
            " lstm (LSTM)                 (None, 512)               2099200   \n",
            "                                                                 \n",
            " repeat_vector (RepeatVector  (None, 8, 512)           0         \n",
            " )                                                               \n",
            "                                                                 \n",
            " lstm_1 (LSTM)               (None, 8, 512)            2099200   \n",
            "                                                                 \n",
            " dense (Dense)               (None, 8, 6142)           3150846   \n",
            "                                                                 \n",
            "=================================================================\n",
            "Total params: 14,602,750\n",
            "Trainable params: 14,602,750\n",
            "Non-trainable params: 0\n",
            "_________________________________________________________________\n"
          ]
        }
      ]
    },
    {
      "cell_type": "code",
      "source": [
        "rms = optimizers.RMSprop(lr=0.001)\n",
        "model.compile(optimizer=rms, loss='sparse_categorical_crossentropy')"
      ],
      "metadata": {
        "colab": {
          "base_uri": "https://localhost:8080/"
        },
        "id": "RHHdY0CzQIVY",
        "outputId": "29a99e10-64a7-4cbe-8d5a-ea567d32b444"
      },
      "execution_count": 22,
      "outputs": [
        {
          "output_type": "stream",
          "name": "stderr",
          "text": [
            "/usr/local/lib/python3.7/dist-packages/keras/optimizers/optimizer_v2/rmsprop.py:135: UserWarning: The `lr` argument is deprecated, use `learning_rate` instead.\n",
            "  super(RMSprop, self).__init__(name, **kwargs)\n"
          ]
        }
      ]
    },
    {
      "cell_type": "code",
      "source": [
        "filename = 'model.eng_fre'\n",
        "checkpoint = ModelCheckpoint(filename, monitor='val_loss', verbose=1, save_best_only=True, mode='min')\n",
        "\n",
        "# train model\n",
        "history = model.fit(trainX, trainY.reshape(trainY.shape[0], trainY.shape[1], 1), epochs=30, batch_size=512, validation_split = 0.2,callbacks=[checkpoint], verbose=1)"
      ],
      "metadata": {
        "colab": {
          "base_uri": "https://localhost:8080/"
        },
        "id": "qUK5-vZrQNio",
        "outputId": "ba14c4ae-f827-4722-bc43-4a46dbfdabe7"
      },
      "execution_count": 23,
      "outputs": [
        {
          "output_type": "stream",
          "name": "stdout",
          "text": [
            "Epoch 1/30\n",
            "62/63 [============================>.] - ETA: 0s - loss: 3.4016\n",
            "Epoch 1: val_loss improved from inf to 2.83769, saving model to model.eng_fre\n"
          ]
        },
        {
          "output_type": "stream",
          "name": "stderr",
          "text": [
            "WARNING:absl:Found untraced functions such as lstm_cell_layer_call_fn, lstm_cell_layer_call_and_return_conditional_losses, lstm_cell_1_layer_call_fn, lstm_cell_1_layer_call_and_return_conditional_losses while saving (showing 4 of 4). These functions will not be directly callable after loading.\n"
          ]
        },
        {
          "output_type": "stream",
          "name": "stdout",
          "text": [
            "\b\b\b\b\b\b\b\b\b\b\b\b\b\b\b\b\b\b\b\b\b\b\b\b\b\b\b\b\b\b\b\b\b\b\b\b\b\b\b\b\b\b\b\b\b\b\b\b\b\b\b\b\b\b\b\b\b\b\b\b\b\b\b\r63/63 [==============================] - 29s 307ms/step - loss: 3.3973 - val_loss: 2.8377\n",
            "Epoch 2/30\n",
            "62/63 [============================>.] - ETA: 0s - loss: 2.7287\n",
            "Epoch 2: val_loss improved from 2.83769 to 2.70021, saving model to model.eng_fre\n"
          ]
        },
        {
          "output_type": "stream",
          "name": "stderr",
          "text": [
            "WARNING:absl:Found untraced functions such as lstm_cell_layer_call_fn, lstm_cell_layer_call_and_return_conditional_losses, lstm_cell_1_layer_call_fn, lstm_cell_1_layer_call_and_return_conditional_losses while saving (showing 4 of 4). These functions will not be directly callable after loading.\n"
          ]
        },
        {
          "output_type": "stream",
          "name": "stdout",
          "text": [
            "\b\b\b\b\b\b\b\b\b\b\b\b\b\b\b\b\b\b\b\b\b\b\b\b\b\b\b\b\b\b\b\b\b\b\b\b\b\b\b\b\b\b\b\b\b\b\b\b\b\b\b\b\b\b\b\b\b\b\b\b\b\b\b\r63/63 [==============================] - 17s 269ms/step - loss: 2.7282 - val_loss: 2.7002\n",
            "Epoch 3/30\n",
            "62/63 [============================>.] - ETA: 0s - loss: 2.5965\n",
            "Epoch 3: val_loss improved from 2.70021 to 2.56398, saving model to model.eng_fre\n"
          ]
        },
        {
          "output_type": "stream",
          "name": "stderr",
          "text": [
            "WARNING:absl:Found untraced functions such as lstm_cell_layer_call_fn, lstm_cell_layer_call_and_return_conditional_losses, lstm_cell_1_layer_call_fn, lstm_cell_1_layer_call_and_return_conditional_losses while saving (showing 4 of 4). These functions will not be directly callable after loading.\n"
          ]
        },
        {
          "output_type": "stream",
          "name": "stdout",
          "text": [
            "\b\b\b\b\b\b\b\b\b\b\b\b\b\b\b\b\b\b\b\b\b\b\b\b\b\b\b\b\b\b\b\b\b\b\b\b\b\b\b\b\b\b\b\b\b\b\b\b\b\b\b\b\b\b\b\b\b\b\b\b\b\b\b\r63/63 [==============================] - 17s 268ms/step - loss: 2.5951 - val_loss: 2.5640\n",
            "Epoch 4/30\n",
            "62/63 [============================>.] - ETA: 0s - loss: 2.4151\n",
            "Epoch 4: val_loss improved from 2.56398 to 2.42263, saving model to model.eng_fre\n"
          ]
        },
        {
          "output_type": "stream",
          "name": "stderr",
          "text": [
            "WARNING:absl:Found untraced functions such as lstm_cell_layer_call_fn, lstm_cell_layer_call_and_return_conditional_losses, lstm_cell_1_layer_call_fn, lstm_cell_1_layer_call_and_return_conditional_losses while saving (showing 4 of 4). These functions will not be directly callable after loading.\n"
          ]
        },
        {
          "output_type": "stream",
          "name": "stdout",
          "text": [
            "\b\b\b\b\b\b\b\b\b\b\b\b\b\b\b\b\b\b\b\b\b\b\b\b\b\b\b\b\b\b\b\b\b\b\b\b\b\b\b\b\b\b\b\b\b\b\b\b\b\b\b\b\b\b\b\b\b\b\b\b\b\b\b\r63/63 [==============================] - 17s 277ms/step - loss: 2.4146 - val_loss: 2.4226\n",
            "Epoch 5/30\n",
            "62/63 [============================>.] - ETA: 0s - loss: 2.2570\n",
            "Epoch 5: val_loss improved from 2.42263 to 2.29325, saving model to model.eng_fre\n"
          ]
        },
        {
          "output_type": "stream",
          "name": "stderr",
          "text": [
            "WARNING:absl:Found untraced functions such as lstm_cell_layer_call_fn, lstm_cell_layer_call_and_return_conditional_losses, lstm_cell_1_layer_call_fn, lstm_cell_1_layer_call_and_return_conditional_losses while saving (showing 4 of 4). These functions will not be directly callable after loading.\n"
          ]
        },
        {
          "output_type": "stream",
          "name": "stdout",
          "text": [
            "\b\b\b\b\b\b\b\b\b\b\b\b\b\b\b\b\b\b\b\b\b\b\b\b\b\b\b\b\b\b\b\b\b\b\b\b\b\b\b\b\b\b\b\b\b\b\b\b\b\b\b\b\b\b\b\b\b\b\b\b\b\b\b\r63/63 [==============================] - 17s 270ms/step - loss: 2.2567 - val_loss: 2.2933\n",
            "Epoch 6/30\n",
            "62/63 [============================>.] - ETA: 0s - loss: 2.1186\n",
            "Epoch 6: val_loss improved from 2.29325 to 2.19151, saving model to model.eng_fre\n"
          ]
        },
        {
          "output_type": "stream",
          "name": "stderr",
          "text": [
            "WARNING:absl:Found untraced functions such as lstm_cell_layer_call_fn, lstm_cell_layer_call_and_return_conditional_losses, lstm_cell_1_layer_call_fn, lstm_cell_1_layer_call_and_return_conditional_losses while saving (showing 4 of 4). These functions will not be directly callable after loading.\n"
          ]
        },
        {
          "output_type": "stream",
          "name": "stdout",
          "text": [
            "\b\b\b\b\b\b\b\b\b\b\b\b\b\b\b\b\b\b\b\b\b\b\b\b\b\b\b\b\b\b\b\b\b\b\b\b\b\b\b\b\b\b\b\b\b\b\b\b\b\b\b\b\b\b\b\b\b\b\b\b\b\b\b\r63/63 [==============================] - 17s 272ms/step - loss: 2.1182 - val_loss: 2.1915\n",
            "Epoch 7/30\n",
            "62/63 [============================>.] - ETA: 0s - loss: 1.9816\n",
            "Epoch 7: val_loss improved from 2.19151 to 2.08892, saving model to model.eng_fre\n"
          ]
        },
        {
          "output_type": "stream",
          "name": "stderr",
          "text": [
            "WARNING:absl:Found untraced functions such as lstm_cell_layer_call_fn, lstm_cell_layer_call_and_return_conditional_losses, lstm_cell_1_layer_call_fn, lstm_cell_1_layer_call_and_return_conditional_losses while saving (showing 4 of 4). These functions will not be directly callable after loading.\n"
          ]
        },
        {
          "output_type": "stream",
          "name": "stdout",
          "text": [
            "\b\b\b\b\b\b\b\b\b\b\b\b\b\b\b\b\b\b\b\b\b\b\b\b\b\b\b\b\b\b\b\b\b\b\b\b\b\b\b\b\b\b\b\b\b\b\b\b\b\b\b\b\b\b\b\b\b\b\b\b\b\b\b\r63/63 [==============================] - 17s 271ms/step - loss: 1.9816 - val_loss: 2.0889\n",
            "Epoch 8/30\n",
            "62/63 [============================>.] - ETA: 0s - loss: 1.8605\n",
            "Epoch 8: val_loss improved from 2.08892 to 2.01044, saving model to model.eng_fre\n"
          ]
        },
        {
          "output_type": "stream",
          "name": "stderr",
          "text": [
            "WARNING:absl:Found untraced functions such as lstm_cell_layer_call_fn, lstm_cell_layer_call_and_return_conditional_losses, lstm_cell_1_layer_call_fn, lstm_cell_1_layer_call_and_return_conditional_losses while saving (showing 4 of 4). These functions will not be directly callable after loading.\n"
          ]
        },
        {
          "output_type": "stream",
          "name": "stdout",
          "text": [
            "\b\b\b\b\b\b\b\b\b\b\b\b\b\b\b\b\b\b\b\b\b\b\b\b\b\b\b\b\b\b\b\b\b\b\b\b\b\b\b\b\b\b\b\b\b\b\b\b\b\b\b\b\b\b\b\b\b\b\b\b\b\b\b\r63/63 [==============================] - 17s 275ms/step - loss: 1.8600 - val_loss: 2.0104\n",
            "Epoch 9/30\n",
            "62/63 [============================>.] - ETA: 0s - loss: 1.7478\n",
            "Epoch 9: val_loss improved from 2.01044 to 1.93289, saving model to model.eng_fre\n"
          ]
        },
        {
          "output_type": "stream",
          "name": "stderr",
          "text": [
            "WARNING:absl:Found untraced functions such as lstm_cell_layer_call_fn, lstm_cell_layer_call_and_return_conditional_losses, lstm_cell_1_layer_call_fn, lstm_cell_1_layer_call_and_return_conditional_losses while saving (showing 4 of 4). These functions will not be directly callable after loading.\n"
          ]
        },
        {
          "output_type": "stream",
          "name": "stdout",
          "text": [
            "\b\b\b\b\b\b\b\b\b\b\b\b\b\b\b\b\b\b\b\b\b\b\b\b\b\b\b\b\b\b\b\b\b\b\b\b\b\b\b\b\b\b\b\b\b\b\b\b\b\b\b\b\b\b\b\b\b\b\b\b\b\b\b\r63/63 [==============================] - 17s 275ms/step - loss: 1.7482 - val_loss: 1.9329\n",
            "Epoch 10/30\n",
            "62/63 [============================>.] - ETA: 0s - loss: 1.6470\n",
            "Epoch 10: val_loss improved from 1.93289 to 1.86583, saving model to model.eng_fre\n"
          ]
        },
        {
          "output_type": "stream",
          "name": "stderr",
          "text": [
            "WARNING:absl:Found untraced functions such as lstm_cell_layer_call_fn, lstm_cell_layer_call_and_return_conditional_losses, lstm_cell_1_layer_call_fn, lstm_cell_1_layer_call_and_return_conditional_losses while saving (showing 4 of 4). These functions will not be directly callable after loading.\n"
          ]
        },
        {
          "output_type": "stream",
          "name": "stdout",
          "text": [
            "\b\b\b\b\b\b\b\b\b\b\b\b\b\b\b\b\b\b\b\b\b\b\b\b\b\b\b\b\b\b\b\b\b\b\b\b\b\b\b\b\b\b\b\b\b\b\b\b\b\b\b\b\b\b\b\b\b\b\b\b\b\b\b\r63/63 [==============================] - 17s 270ms/step - loss: 1.6479 - val_loss: 1.8658\n",
            "Epoch 11/30\n",
            "62/63 [============================>.] - ETA: 0s - loss: 1.5502\n",
            "Epoch 11: val_loss improved from 1.86583 to 1.81436, saving model to model.eng_fre\n"
          ]
        },
        {
          "output_type": "stream",
          "name": "stderr",
          "text": [
            "WARNING:absl:Found untraced functions such as lstm_cell_layer_call_fn, lstm_cell_layer_call_and_return_conditional_losses, lstm_cell_1_layer_call_fn, lstm_cell_1_layer_call_and_return_conditional_losses while saving (showing 4 of 4). These functions will not be directly callable after loading.\n"
          ]
        },
        {
          "output_type": "stream",
          "name": "stdout",
          "text": [
            "\b\b\b\b\b\b\b\b\b\b\b\b\b\b\b\b\b\b\b\b\b\b\b\b\b\b\b\b\b\b\b\b\b\b\b\b\b\b\b\b\b\b\b\b\b\b\b\b\b\b\b\b\b\b\b\b\b\b\b\b\b\b\b\r63/63 [==============================] - 17s 271ms/step - loss: 1.5504 - val_loss: 1.8144\n",
            "Epoch 12/30\n",
            "62/63 [============================>.] - ETA: 0s - loss: 1.4625\n",
            "Epoch 12: val_loss improved from 1.81436 to 1.75848, saving model to model.eng_fre\n"
          ]
        },
        {
          "output_type": "stream",
          "name": "stderr",
          "text": [
            "WARNING:absl:Found untraced functions such as lstm_cell_layer_call_fn, lstm_cell_layer_call_and_return_conditional_losses, lstm_cell_1_layer_call_fn, lstm_cell_1_layer_call_and_return_conditional_losses while saving (showing 4 of 4). These functions will not be directly callable after loading.\n"
          ]
        },
        {
          "output_type": "stream",
          "name": "stdout",
          "text": [
            "\b\b\b\b\b\b\b\b\b\b\b\b\b\b\b\b\b\b\b\b\b\b\b\b\b\b\b\b\b\b\b\b\b\b\b\b\b\b\b\b\b\b\b\b\b\b\b\b\b\b\b\b\b\b\b\b\b\b\b\b\b\b\b\r63/63 [==============================] - 17s 274ms/step - loss: 1.4629 - val_loss: 1.7585\n",
            "Epoch 13/30\n",
            "62/63 [============================>.] - ETA: 0s - loss: 1.3780\n",
            "Epoch 13: val_loss improved from 1.75848 to 1.71447, saving model to model.eng_fre\n"
          ]
        },
        {
          "output_type": "stream",
          "name": "stderr",
          "text": [
            "WARNING:absl:Found untraced functions such as lstm_cell_layer_call_fn, lstm_cell_layer_call_and_return_conditional_losses, lstm_cell_1_layer_call_fn, lstm_cell_1_layer_call_and_return_conditional_losses while saving (showing 4 of 4). These functions will not be directly callable after loading.\n"
          ]
        },
        {
          "output_type": "stream",
          "name": "stdout",
          "text": [
            "\b\b\b\b\b\b\b\b\b\b\b\b\b\b\b\b\b\b\b\b\b\b\b\b\b\b\b\b\b\b\b\b\b\b\b\b\b\b\b\b\b\b\b\b\b\b\b\b\b\b\b\b\b\b\b\b\b\b\b\b\b\b\b\r63/63 [==============================] - 17s 276ms/step - loss: 1.3783 - val_loss: 1.7145\n",
            "Epoch 14/30\n",
            "62/63 [============================>.] - ETA: 0s - loss: 1.2972\n",
            "Epoch 14: val_loss improved from 1.71447 to 1.70886, saving model to model.eng_fre\n"
          ]
        },
        {
          "output_type": "stream",
          "name": "stderr",
          "text": [
            "WARNING:absl:Found untraced functions such as lstm_cell_layer_call_fn, lstm_cell_layer_call_and_return_conditional_losses, lstm_cell_1_layer_call_fn, lstm_cell_1_layer_call_and_return_conditional_losses while saving (showing 4 of 4). These functions will not be directly callable after loading.\n"
          ]
        },
        {
          "output_type": "stream",
          "name": "stdout",
          "text": [
            "\b\b\b\b\b\b\b\b\b\b\b\b\b\b\b\b\b\b\b\b\b\b\b\b\b\b\b\b\b\b\b\b\b\b\b\b\b\b\b\b\b\b\b\b\b\b\b\b\b\b\b\b\b\b\b\b\b\b\b\b\b\b\b\r63/63 [==============================] - 17s 272ms/step - loss: 1.2969 - val_loss: 1.7089\n",
            "Epoch 15/30\n",
            "62/63 [============================>.] - ETA: 0s - loss: 1.2206\n",
            "Epoch 15: val_loss improved from 1.70886 to 1.66650, saving model to model.eng_fre\n"
          ]
        },
        {
          "output_type": "stream",
          "name": "stderr",
          "text": [
            "WARNING:absl:Found untraced functions such as lstm_cell_layer_call_fn, lstm_cell_layer_call_and_return_conditional_losses, lstm_cell_1_layer_call_fn, lstm_cell_1_layer_call_and_return_conditional_losses while saving (showing 4 of 4). These functions will not be directly callable after loading.\n"
          ]
        },
        {
          "output_type": "stream",
          "name": "stdout",
          "text": [
            "\b\b\b\b\b\b\b\b\b\b\b\b\b\b\b\b\b\b\b\b\b\b\b\b\b\b\b\b\b\b\b\b\b\b\b\b\b\b\b\b\b\b\b\b\b\b\b\b\b\b\b\b\b\b\b\b\b\b\b\b\b\b\b\r63/63 [==============================] - 18s 285ms/step - loss: 1.2213 - val_loss: 1.6665\n",
            "Epoch 16/30\n",
            "62/63 [============================>.] - ETA: 0s - loss: 1.1483\n",
            "Epoch 16: val_loss improved from 1.66650 to 1.59829, saving model to model.eng_fre\n"
          ]
        },
        {
          "output_type": "stream",
          "name": "stderr",
          "text": [
            "WARNING:absl:Found untraced functions such as lstm_cell_layer_call_fn, lstm_cell_layer_call_and_return_conditional_losses, lstm_cell_1_layer_call_fn, lstm_cell_1_layer_call_and_return_conditional_losses while saving (showing 4 of 4). These functions will not be directly callable after loading.\n"
          ]
        },
        {
          "output_type": "stream",
          "name": "stdout",
          "text": [
            "\b\b\b\b\b\b\b\b\b\b\b\b\b\b\b\b\b\b\b\b\b\b\b\b\b\b\b\b\b\b\b\b\b\b\b\b\b\b\b\b\b\b\b\b\b\b\b\b\b\b\b\b\b\b\b\b\b\b\b\b\b\b\b\r63/63 [==============================] - 17s 275ms/step - loss: 1.1480 - val_loss: 1.5983\n",
            "Epoch 17/30\n",
            "62/63 [============================>.] - ETA: 0s - loss: 1.0774\n",
            "Epoch 17: val_loss improved from 1.59829 to 1.56780, saving model to model.eng_fre\n"
          ]
        },
        {
          "output_type": "stream",
          "name": "stderr",
          "text": [
            "WARNING:absl:Found untraced functions such as lstm_cell_layer_call_fn, lstm_cell_layer_call_and_return_conditional_losses, lstm_cell_1_layer_call_fn, lstm_cell_1_layer_call_and_return_conditional_losses while saving (showing 4 of 4). These functions will not be directly callable after loading.\n"
          ]
        },
        {
          "output_type": "stream",
          "name": "stdout",
          "text": [
            "\b\b\b\b\b\b\b\b\b\b\b\b\b\b\b\b\b\b\b\b\b\b\b\b\b\b\b\b\b\b\b\b\b\b\b\b\b\b\b\b\b\b\b\b\b\b\b\b\b\b\b\b\b\b\b\b\b\b\b\b\b\b\b\r63/63 [==============================] - 17s 271ms/step - loss: 1.0771 - val_loss: 1.5678\n",
            "Epoch 18/30\n",
            "62/63 [============================>.] - ETA: 0s - loss: 1.0095\n",
            "Epoch 18: val_loss improved from 1.56780 to 1.54480, saving model to model.eng_fre\n"
          ]
        },
        {
          "output_type": "stream",
          "name": "stderr",
          "text": [
            "WARNING:absl:Found untraced functions such as lstm_cell_layer_call_fn, lstm_cell_layer_call_and_return_conditional_losses, lstm_cell_1_layer_call_fn, lstm_cell_1_layer_call_and_return_conditional_losses while saving (showing 4 of 4). These functions will not be directly callable after loading.\n"
          ]
        },
        {
          "output_type": "stream",
          "name": "stdout",
          "text": [
            "\b\b\b\b\b\b\b\b\b\b\b\b\b\b\b\b\b\b\b\b\b\b\b\b\b\b\b\b\b\b\b\b\b\b\b\b\b\b\b\b\b\b\b\b\b\b\b\b\b\b\b\b\b\b\b\b\b\b\b\b\b\b\b\r63/63 [==============================] - 17s 275ms/step - loss: 1.0104 - val_loss: 1.5448\n",
            "Epoch 19/30\n",
            "62/63 [============================>.] - ETA: 0s - loss: 0.9456\n",
            "Epoch 19: val_loss improved from 1.54480 to 1.52063, saving model to model.eng_fre\n"
          ]
        },
        {
          "output_type": "stream",
          "name": "stderr",
          "text": [
            "WARNING:absl:Found untraced functions such as lstm_cell_layer_call_fn, lstm_cell_layer_call_and_return_conditional_losses, lstm_cell_1_layer_call_fn, lstm_cell_1_layer_call_and_return_conditional_losses while saving (showing 4 of 4). These functions will not be directly callable after loading.\n"
          ]
        },
        {
          "output_type": "stream",
          "name": "stdout",
          "text": [
            "\b\b\b\b\b\b\b\b\b\b\b\b\b\b\b\b\b\b\b\b\b\b\b\b\b\b\b\b\b\b\b\b\b\b\b\b\b\b\b\b\b\b\b\b\b\b\b\b\b\b\b\b\b\b\b\b\b\b\b\b\b\b\b\r63/63 [==============================] - 17s 275ms/step - loss: 0.9457 - val_loss: 1.5206\n",
            "Epoch 20/30\n",
            "62/63 [============================>.] - ETA: 0s - loss: 0.8825\n",
            "Epoch 20: val_loss improved from 1.52063 to 1.50407, saving model to model.eng_fre\n"
          ]
        },
        {
          "output_type": "stream",
          "name": "stderr",
          "text": [
            "WARNING:absl:Found untraced functions such as lstm_cell_layer_call_fn, lstm_cell_layer_call_and_return_conditional_losses, lstm_cell_1_layer_call_fn, lstm_cell_1_layer_call_and_return_conditional_losses while saving (showing 4 of 4). These functions will not be directly callable after loading.\n"
          ]
        },
        {
          "output_type": "stream",
          "name": "stdout",
          "text": [
            "\b\b\b\b\b\b\b\b\b\b\b\b\b\b\b\b\b\b\b\b\b\b\b\b\b\b\b\b\b\b\b\b\b\b\b\b\b\b\b\b\b\b\b\b\b\b\b\b\b\b\b\b\b\b\b\b\b\b\b\b\b\b\b\r63/63 [==============================] - 17s 278ms/step - loss: 0.8827 - val_loss: 1.5041\n",
            "Epoch 21/30\n",
            "62/63 [============================>.] - ETA: 0s - loss: 0.8255\n",
            "Epoch 21: val_loss improved from 1.50407 to 1.47525, saving model to model.eng_fre\n"
          ]
        },
        {
          "output_type": "stream",
          "name": "stderr",
          "text": [
            "WARNING:absl:Found untraced functions such as lstm_cell_layer_call_fn, lstm_cell_layer_call_and_return_conditional_losses, lstm_cell_1_layer_call_fn, lstm_cell_1_layer_call_and_return_conditional_losses while saving (showing 4 of 4). These functions will not be directly callable after loading.\n"
          ]
        },
        {
          "output_type": "stream",
          "name": "stdout",
          "text": [
            "\b\b\b\b\b\b\b\b\b\b\b\b\b\b\b\b\b\b\b\b\b\b\b\b\b\b\b\b\b\b\b\b\b\b\b\b\b\b\b\b\b\b\b\b\b\b\b\b\b\b\b\b\b\b\b\b\b\b\b\b\b\b\b\r63/63 [==============================] - 17s 275ms/step - loss: 0.8255 - val_loss: 1.4753\n",
            "Epoch 22/30\n",
            "62/63 [============================>.] - ETA: 0s - loss: 0.7662\n",
            "Epoch 22: val_loss improved from 1.47525 to 1.44222, saving model to model.eng_fre\n"
          ]
        },
        {
          "output_type": "stream",
          "name": "stderr",
          "text": [
            "WARNING:absl:Found untraced functions such as lstm_cell_layer_call_fn, lstm_cell_layer_call_and_return_conditional_losses, lstm_cell_1_layer_call_fn, lstm_cell_1_layer_call_and_return_conditional_losses while saving (showing 4 of 4). These functions will not be directly callable after loading.\n"
          ]
        },
        {
          "output_type": "stream",
          "name": "stdout",
          "text": [
            "\b\b\b\b\b\b\b\b\b\b\b\b\b\b\b\b\b\b\b\b\b\b\b\b\b\b\b\b\b\b\b\b\b\b\b\b\b\b\b\b\b\b\b\b\b\b\b\b\b\b\b\b\b\b\b\b\b\b\b\b\b\b\b\r63/63 [==============================] - 17s 276ms/step - loss: 0.7664 - val_loss: 1.4422\n",
            "Epoch 23/30\n",
            "62/63 [============================>.] - ETA: 0s - loss: 0.7141\n",
            "Epoch 23: val_loss did not improve from 1.44222\n",
            "63/63 [==============================] - 4s 67ms/step - loss: 0.7143 - val_loss: 1.4430\n",
            "Epoch 24/30\n",
            "62/63 [============================>.] - ETA: 0s - loss: 0.6625\n",
            "Epoch 24: val_loss improved from 1.44222 to 1.41532, saving model to model.eng_fre\n"
          ]
        },
        {
          "output_type": "stream",
          "name": "stderr",
          "text": [
            "WARNING:absl:Found untraced functions such as lstm_cell_layer_call_fn, lstm_cell_layer_call_and_return_conditional_losses, lstm_cell_1_layer_call_fn, lstm_cell_1_layer_call_and_return_conditional_losses while saving (showing 4 of 4). These functions will not be directly callable after loading.\n"
          ]
        },
        {
          "output_type": "stream",
          "name": "stdout",
          "text": [
            "\b\b\b\b\b\b\b\b\b\b\b\b\b\b\b\b\b\b\b\b\b\b\b\b\b\b\b\b\b\b\b\b\b\b\b\b\b\b\b\b\b\b\b\b\b\b\b\b\b\b\b\b\b\b\b\b\b\b\b\b\b\b\b\r63/63 [==============================] - 17s 274ms/step - loss: 0.6626 - val_loss: 1.4153\n",
            "Epoch 25/30\n",
            "62/63 [============================>.] - ETA: 0s - loss: 0.6131\n",
            "Epoch 25: val_loss improved from 1.41532 to 1.40447, saving model to model.eng_fre\n"
          ]
        },
        {
          "output_type": "stream",
          "name": "stderr",
          "text": [
            "WARNING:absl:Found untraced functions such as lstm_cell_layer_call_fn, lstm_cell_layer_call_and_return_conditional_losses, lstm_cell_1_layer_call_fn, lstm_cell_1_layer_call_and_return_conditional_losses while saving (showing 4 of 4). These functions will not be directly callable after loading.\n"
          ]
        },
        {
          "output_type": "stream",
          "name": "stdout",
          "text": [
            "\b\b\b\b\b\b\b\b\b\b\b\b\b\b\b\b\b\b\b\b\b\b\b\b\b\b\b\b\b\b\b\b\b\b\b\b\b\b\b\b\b\b\b\b\b\b\b\b\b\b\b\b\b\b\b\b\b\b\b\b\b\b\b\r63/63 [==============================] - 17s 274ms/step - loss: 0.6132 - val_loss: 1.4045\n",
            "Epoch 26/30\n",
            "62/63 [============================>.] - ETA: 0s - loss: 0.5691\n",
            "Epoch 26: val_loss improved from 1.40447 to 1.38689, saving model to model.eng_fre\n"
          ]
        },
        {
          "output_type": "stream",
          "name": "stderr",
          "text": [
            "WARNING:absl:Found untraced functions such as lstm_cell_layer_call_fn, lstm_cell_layer_call_and_return_conditional_losses, lstm_cell_1_layer_call_fn, lstm_cell_1_layer_call_and_return_conditional_losses while saving (showing 4 of 4). These functions will not be directly callable after loading.\n"
          ]
        },
        {
          "output_type": "stream",
          "name": "stdout",
          "text": [
            "\b\b\b\b\b\b\b\b\b\b\b\b\b\b\b\b\b\b\b\b\b\b\b\b\b\b\b\b\b\b\b\b\b\b\b\b\b\b\b\b\b\b\b\b\b\b\b\b\b\b\b\b\b\b\b\b\b\b\b\b\b\b\b\r63/63 [==============================] - 17s 270ms/step - loss: 0.5694 - val_loss: 1.3869\n",
            "Epoch 27/30\n",
            "62/63 [============================>.] - ETA: 0s - loss: 0.5247\n",
            "Epoch 27: val_loss improved from 1.38689 to 1.37878, saving model to model.eng_fre\n"
          ]
        },
        {
          "output_type": "stream",
          "name": "stderr",
          "text": [
            "WARNING:absl:Found untraced functions such as lstm_cell_layer_call_fn, lstm_cell_layer_call_and_return_conditional_losses, lstm_cell_1_layer_call_fn, lstm_cell_1_layer_call_and_return_conditional_losses while saving (showing 4 of 4). These functions will not be directly callable after loading.\n"
          ]
        },
        {
          "output_type": "stream",
          "name": "stdout",
          "text": [
            "\b\b\b\b\b\b\b\b\b\b\b\b\b\b\b\b\b\b\b\b\b\b\b\b\b\b\b\b\b\b\b\b\b\b\b\b\b\b\b\b\b\b\b\b\b\b\b\b\b\b\b\b\b\b\b\b\b\b\b\b\b\b\b\r63/63 [==============================] - 17s 273ms/step - loss: 0.5246 - val_loss: 1.3788\n",
            "Epoch 28/30\n",
            "62/63 [============================>.] - ETA: 0s - loss: 0.4866\n",
            "Epoch 28: val_loss improved from 1.37878 to 1.36196, saving model to model.eng_fre\n"
          ]
        },
        {
          "output_type": "stream",
          "name": "stderr",
          "text": [
            "WARNING:absl:Found untraced functions such as lstm_cell_layer_call_fn, lstm_cell_layer_call_and_return_conditional_losses, lstm_cell_1_layer_call_fn, lstm_cell_1_layer_call_and_return_conditional_losses while saving (showing 4 of 4). These functions will not be directly callable after loading.\n"
          ]
        },
        {
          "output_type": "stream",
          "name": "stdout",
          "text": [
            "\b\b\b\b\b\b\b\b\b\b\b\b\b\b\b\b\b\b\b\b\b\b\b\b\b\b\b\b\b\b\b\b\b\b\b\b\b\b\b\b\b\b\b\b\b\b\b\b\b\b\b\b\b\b\b\b\b\b\b\b\b\b\b\r63/63 [==============================] - 17s 273ms/step - loss: 0.4867 - val_loss: 1.3620\n",
            "Epoch 29/30\n",
            "62/63 [============================>.] - ETA: 0s - loss: 0.4458\n",
            "Epoch 29: val_loss improved from 1.36196 to 1.36082, saving model to model.eng_fre\n"
          ]
        },
        {
          "output_type": "stream",
          "name": "stderr",
          "text": [
            "WARNING:absl:Found untraced functions such as lstm_cell_layer_call_fn, lstm_cell_layer_call_and_return_conditional_losses, lstm_cell_1_layer_call_fn, lstm_cell_1_layer_call_and_return_conditional_losses while saving (showing 4 of 4). These functions will not be directly callable after loading.\n"
          ]
        },
        {
          "output_type": "stream",
          "name": "stdout",
          "text": [
            "\b\b\b\b\b\b\b\b\b\b\b\b\b\b\b\b\b\b\b\b\b\b\b\b\b\b\b\b\b\b\b\b\b\b\b\b\b\b\b\b\b\b\b\b\b\b\b\b\b\b\b\b\b\b\b\b\b\b\b\b\b\b\b\r63/63 [==============================] - 18s 286ms/step - loss: 0.4464 - val_loss: 1.3608\n",
            "Epoch 30/30\n",
            "62/63 [============================>.] - ETA: 0s - loss: 0.4116\n",
            "Epoch 30: val_loss did not improve from 1.36082\n",
            "63/63 [==============================] - 4s 67ms/step - loss: 0.4122 - val_loss: 1.3752\n"
          ]
        }
      ]
    },
    {
      "cell_type": "code",
      "source": [
        "plt.plot(history.history['loss'])\n",
        "plt.plot(history.history['val_loss'])\n",
        "plt.legend(['train','validation'])\n",
        "plt.show()"
      ],
      "metadata": {
        "colab": {
          "base_uri": "https://localhost:8080/",
          "height": 266
        },
        "id": "CgsMIGdQQWBA",
        "outputId": "399501c4-2996-4a2c-9b5c-1f9d72e89129"
      },
      "execution_count": 24,
      "outputs": [
        {
          "output_type": "display_data",
          "data": {
            "text/plain": [
              "<Figure size 432x288 with 1 Axes>"
            ],
            "image/png": "[encoded data removed]"
          },
          "metadata": {
            "needs_background": "light"
          }
        }
      ]
    },
    {
      "cell_type": "code",
      "source": [
        "model = load_model('model.eng_fre')\n",
        "predict = model.predict(testX.reshape((testX.shape[0],testX.shape[1])))\n",
        "preds = np.argmax(predict,axis=1)"
      ],
      "metadata": {
        "colab": {
          "base_uri": "https://localhost:8080/"
        },
        "id": "z8ROc8u3QumL",
        "outputId": "0ffff293-dbcb-4c86-eb9c-fb71521927d6"
      },
      "execution_count": 25,
      "outputs": [
        {
          "output_type": "stream",
          "name": "stdout",
          "text": [
            "313/313 [==============================] - 3s 5ms/step\n"
          ]
        }
      ]
    },
    {
      "cell_type": "code",
      "source": [
        "def get_word(n, tokenizer):\n",
        "  for word, index in tokenizer.word_index.items():\n",
        "    if index == n:\n",
        "      return word\n",
        "  return None"
      ],
      "metadata": {
        "id": "eWCfaDCXQyeL"
      },
      "execution_count": 26,
      "outputs": []
    },
    {
      "cell_type": "code",
      "source": [
        "preds_text = []\n",
        "for i in preds[:20]:\n",
        "  temp = []\n",
        "  for j in range(len(i)):\n",
        "    t = get_word(i[j], eng_tokenizer)\n",
        "    if j > 0:\n",
        "      if (t == get_word(i[j-1], eng_tokenizer)) or (t == None):\n",
        "        temp.append('')\n",
        "      else:\n",
        "        temp.append(t)\n",
        "    else:\n",
        "      if(t == None):\n",
        "        temp.append('')\n",
        "      else:\n",
        "        temp.append(t) \n",
        "\n",
        "  preds_text.append(' '.join(temp))"
      ],
      "metadata": {
        "id": "s1rQ752qTBDz"
      },
      "execution_count": 27,
      "outputs": []
    },
    {
      "cell_type": "code",
      "source": [],
      "metadata": {
        "id": "Tp4-gMFnUI8d"
      },
      "execution_count": 27,
      "outputs": []
    }
  ]
}